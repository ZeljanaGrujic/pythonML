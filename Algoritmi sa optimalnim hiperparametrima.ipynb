{
 "cells": [
  {
   "cell_type": "code",
   "execution_count": 1,
   "id": "79a3c7e1",
   "metadata": {},
   "outputs": [],
   "source": [
    "import numpy as np\n",
    "import pandas as pd\n",
    "pd.set_option('display.max_columns', 500)"
   ]
  },
  {
   "cell_type": "code",
   "execution_count": 2,
   "id": "179664e3",
   "metadata": {},
   "outputs": [],
   "source": [
    "data = pd.read_csv(r'C:\\Users\\zelja\\Desktop\\Masinsko ucenje\\NoviProjekatDZ\\carvana_final.csv')\n",
    "#ucitavamo pripremljeni dataset u varijablu data"
   ]
  },
  {
   "cell_type": "code",
   "execution_count": 3,
   "id": "d112252c",
   "metadata": {},
   "outputs": [
    {
     "data": {
      "text/html": [
       "<div>\n",
       "<style scoped>\n",
       "    .dataframe tbody tr th:only-of-type {\n",
       "        vertical-align: middle;\n",
       "    }\n",
       "\n",
       "    .dataframe tbody tr th {\n",
       "        vertical-align: top;\n",
       "    }\n",
       "\n",
       "    .dataframe thead th {\n",
       "        text-align: right;\n",
       "    }\n",
       "</style>\n",
       "<table border=\"1\" class=\"dataframe\">\n",
       "  <thead>\n",
       "    <tr style=\"text-align: right;\">\n",
       "      <th></th>\n",
       "      <th>VehicleAge</th>\n",
       "      <th>VehOdo</th>\n",
       "      <th>VNZIP1</th>\n",
       "      <th>VehBCost</th>\n",
       "      <th>IsOnlineSale</th>\n",
       "      <th>WarrantyCost</th>\n",
       "      <th>PurchYear</th>\n",
       "      <th>AcquisitionAuctionRatio</th>\n",
       "      <th>AcquisitionRetailRatio</th>\n",
       "      <th>CurrentAuctionRatio</th>\n",
       "      <th>CurrentRetailRatio</th>\n",
       "      <th>Make_ACURA</th>\n",
       "      <th>Make_BUICK</th>\n",
       "      <th>Make_CADILLAC</th>\n",
       "      <th>Make_CHEVROLET</th>\n",
       "      <th>Make_CHRYSLER</th>\n",
       "      <th>Make_DODGE</th>\n",
       "      <th>Make_FORD</th>\n",
       "      <th>Make_GMC</th>\n",
       "      <th>Make_HONDA</th>\n",
       "      <th>Make_HUMMER</th>\n",
       "      <th>Make_HYUNDAI</th>\n",
       "      <th>Make_INFINITI</th>\n",
       "      <th>Make_ISUZU</th>\n",
       "      <th>Make_JEEP</th>\n",
       "      <th>Make_KIA</th>\n",
       "      <th>Make_LEXUS</th>\n",
       "      <th>Make_LINCOLN</th>\n",
       "      <th>Make_MAZDA</th>\n",
       "      <th>Make_MERCURY</th>\n",
       "      <th>Make_MINI</th>\n",
       "      <th>Make_MITSUBISHI</th>\n",
       "      <th>Make_NISSAN</th>\n",
       "      <th>Make_OLDSMOBILE</th>\n",
       "      <th>Make_PLYMOUTH</th>\n",
       "      <th>Make_PONTIAC</th>\n",
       "      <th>Make_SATURN</th>\n",
       "      <th>Make_SCION</th>\n",
       "      <th>Make_SUBARU</th>\n",
       "      <th>Make_SUZUKI</th>\n",
       "      <th>Make_TOYOTA</th>\n",
       "      <th>Make_VOLKSWAGEN</th>\n",
       "      <th>Make_VOLVO</th>\n",
       "      <th>Color_BEIGE</th>\n",
       "      <th>Color_BLACK</th>\n",
       "      <th>Color_BLUE</th>\n",
       "      <th>Color_BROWN</th>\n",
       "      <th>Color_GOLD</th>\n",
       "      <th>Color_GREEN</th>\n",
       "      <th>Color_GREY</th>\n",
       "      <th>Color_MAROON</th>\n",
       "      <th>Color_NOT AVAIL</th>\n",
       "      <th>Color_ORANGE</th>\n",
       "      <th>Color_OTHER</th>\n",
       "      <th>Color_PURPLE</th>\n",
       "      <th>Color_RED</th>\n",
       "      <th>Color_SILVER</th>\n",
       "      <th>Color_WHITE</th>\n",
       "      <th>Color_YELLOW</th>\n",
       "      <th>Transmission_AUTO</th>\n",
       "      <th>Transmission_MANUAL</th>\n",
       "      <th>WheelType_Alloy</th>\n",
       "      <th>WheelType_Covers</th>\n",
       "      <th>Nationality_AMERICAN</th>\n",
       "      <th>Nationality_OTHER</th>\n",
       "      <th>Nationality_OTHER ASIAN</th>\n",
       "      <th>Nationality_TOP LINE ASIAN</th>\n",
       "      <th>Size_COMPACT</th>\n",
       "      <th>Size_CROSSOVER</th>\n",
       "      <th>Size_LARGE</th>\n",
       "      <th>Size_LARGE SUV</th>\n",
       "      <th>Size_LARGE TRUCK</th>\n",
       "      <th>Size_MEDIUM</th>\n",
       "      <th>Size_MEDIUM SUV</th>\n",
       "      <th>Size_SMALL SUV</th>\n",
       "      <th>Size_SMALL TRUCK</th>\n",
       "      <th>Size_SPECIALTY</th>\n",
       "      <th>Size_SPORTS</th>\n",
       "      <th>Size_VAN</th>\n",
       "      <th>TopThreeAmericanName_CHRYSLER</th>\n",
       "      <th>TopThreeAmericanName_FORD</th>\n",
       "      <th>TopThreeAmericanName_GM</th>\n",
       "      <th>TopThreeAmericanName_OTHER</th>\n",
       "      <th>IsBadBuy</th>\n",
       "    </tr>\n",
       "  </thead>\n",
       "  <tbody>\n",
       "    <tr>\n",
       "      <th>0</th>\n",
       "      <td>-0.106505</td>\n",
       "      <td>0.157568</td>\n",
       "      <td>-0.930981</td>\n",
       "      <td>-1.065435</td>\n",
       "      <td>-0.166793</td>\n",
       "      <td>0.194455</td>\n",
       "      <td>-1.031687</td>\n",
       "      <td>-2.234466</td>\n",
       "      <td>-0.625095</td>\n",
       "      <td>-1.407804</td>\n",
       "      <td>-0.679097</td>\n",
       "      <td>0.0</td>\n",
       "      <td>0.0</td>\n",
       "      <td>0.0</td>\n",
       "      <td>0.0</td>\n",
       "      <td>0.0</td>\n",
       "      <td>1.0</td>\n",
       "      <td>0.0</td>\n",
       "      <td>0.0</td>\n",
       "      <td>0.0</td>\n",
       "      <td>0.0</td>\n",
       "      <td>0.0</td>\n",
       "      <td>0.0</td>\n",
       "      <td>0.0</td>\n",
       "      <td>0.0</td>\n",
       "      <td>0.0</td>\n",
       "      <td>0.0</td>\n",
       "      <td>0.0</td>\n",
       "      <td>0.0</td>\n",
       "      <td>0.0</td>\n",
       "      <td>0.0</td>\n",
       "      <td>0.0</td>\n",
       "      <td>0.0</td>\n",
       "      <td>0.0</td>\n",
       "      <td>0.0</td>\n",
       "      <td>0.0</td>\n",
       "      <td>0.0</td>\n",
       "      <td>0.0</td>\n",
       "      <td>0.0</td>\n",
       "      <td>0.0</td>\n",
       "      <td>0.0</td>\n",
       "      <td>0.0</td>\n",
       "      <td>0.0</td>\n",
       "      <td>0.0</td>\n",
       "      <td>0.0</td>\n",
       "      <td>0.0</td>\n",
       "      <td>0.0</td>\n",
       "      <td>0.0</td>\n",
       "      <td>0.0</td>\n",
       "      <td>0.0</td>\n",
       "      <td>1.0</td>\n",
       "      <td>0.0</td>\n",
       "      <td>0.0</td>\n",
       "      <td>0.0</td>\n",
       "      <td>0.0</td>\n",
       "      <td>0.0</td>\n",
       "      <td>0.0</td>\n",
       "      <td>0.0</td>\n",
       "      <td>0.0</td>\n",
       "      <td>1.0</td>\n",
       "      <td>0.0</td>\n",
       "      <td>0.0</td>\n",
       "      <td>1.0</td>\n",
       "      <td>1.0</td>\n",
       "      <td>0.0</td>\n",
       "      <td>0.0</td>\n",
       "      <td>0.0</td>\n",
       "      <td>0.0</td>\n",
       "      <td>0.0</td>\n",
       "      <td>0.0</td>\n",
       "      <td>0.0</td>\n",
       "      <td>0.0</td>\n",
       "      <td>1.0</td>\n",
       "      <td>0.0</td>\n",
       "      <td>0.0</td>\n",
       "      <td>0.0</td>\n",
       "      <td>0.0</td>\n",
       "      <td>0.0</td>\n",
       "      <td>0.0</td>\n",
       "      <td>1.0</td>\n",
       "      <td>0.0</td>\n",
       "      <td>0.0</td>\n",
       "      <td>0.0</td>\n",
       "      <td>0</td>\n",
       "    </tr>\n",
       "    <tr>\n",
       "      <th>1</th>\n",
       "      <td>0.475038</td>\n",
       "      <td>-0.401661</td>\n",
       "      <td>-0.930981</td>\n",
       "      <td>-1.523737</td>\n",
       "      <td>-0.166793</td>\n",
       "      <td>-1.075463</td>\n",
       "      <td>-1.031687</td>\n",
       "      <td>-1.699265</td>\n",
       "      <td>-0.670383</td>\n",
       "      <td>-1.860623</td>\n",
       "      <td>-1.232409</td>\n",
       "      <td>0.0</td>\n",
       "      <td>0.0</td>\n",
       "      <td>0.0</td>\n",
       "      <td>0.0</td>\n",
       "      <td>0.0</td>\n",
       "      <td>1.0</td>\n",
       "      <td>0.0</td>\n",
       "      <td>0.0</td>\n",
       "      <td>0.0</td>\n",
       "      <td>0.0</td>\n",
       "      <td>0.0</td>\n",
       "      <td>0.0</td>\n",
       "      <td>0.0</td>\n",
       "      <td>0.0</td>\n",
       "      <td>0.0</td>\n",
       "      <td>0.0</td>\n",
       "      <td>0.0</td>\n",
       "      <td>0.0</td>\n",
       "      <td>0.0</td>\n",
       "      <td>0.0</td>\n",
       "      <td>0.0</td>\n",
       "      <td>0.0</td>\n",
       "      <td>0.0</td>\n",
       "      <td>0.0</td>\n",
       "      <td>0.0</td>\n",
       "      <td>0.0</td>\n",
       "      <td>0.0</td>\n",
       "      <td>0.0</td>\n",
       "      <td>0.0</td>\n",
       "      <td>0.0</td>\n",
       "      <td>0.0</td>\n",
       "      <td>0.0</td>\n",
       "      <td>0.0</td>\n",
       "      <td>0.0</td>\n",
       "      <td>0.0</td>\n",
       "      <td>0.0</td>\n",
       "      <td>0.0</td>\n",
       "      <td>0.0</td>\n",
       "      <td>0.0</td>\n",
       "      <td>0.0</td>\n",
       "      <td>0.0</td>\n",
       "      <td>0.0</td>\n",
       "      <td>0.0</td>\n",
       "      <td>0.0</td>\n",
       "      <td>0.0</td>\n",
       "      <td>1.0</td>\n",
       "      <td>0.0</td>\n",
       "      <td>0.0</td>\n",
       "      <td>1.0</td>\n",
       "      <td>0.0</td>\n",
       "      <td>1.0</td>\n",
       "      <td>0.0</td>\n",
       "      <td>1.0</td>\n",
       "      <td>0.0</td>\n",
       "      <td>0.0</td>\n",
       "      <td>0.0</td>\n",
       "      <td>1.0</td>\n",
       "      <td>0.0</td>\n",
       "      <td>0.0</td>\n",
       "      <td>0.0</td>\n",
       "      <td>0.0</td>\n",
       "      <td>0.0</td>\n",
       "      <td>0.0</td>\n",
       "      <td>0.0</td>\n",
       "      <td>0.0</td>\n",
       "      <td>0.0</td>\n",
       "      <td>0.0</td>\n",
       "      <td>0.0</td>\n",
       "      <td>1.0</td>\n",
       "      <td>0.0</td>\n",
       "      <td>0.0</td>\n",
       "      <td>0.0</td>\n",
       "      <td>0</td>\n",
       "    </tr>\n",
       "    <tr>\n",
       "      <th>2</th>\n",
       "      <td>-0.106505</td>\n",
       "      <td>-0.145604</td>\n",
       "      <td>-0.930981</td>\n",
       "      <td>-1.581025</td>\n",
       "      <td>-0.166793</td>\n",
       "      <td>-0.422936</td>\n",
       "      <td>-1.031687</td>\n",
       "      <td>-0.680499</td>\n",
       "      <td>0.648377</td>\n",
       "      <td>-1.182456</td>\n",
       "      <td>-0.080270</td>\n",
       "      <td>0.0</td>\n",
       "      <td>0.0</td>\n",
       "      <td>0.0</td>\n",
       "      <td>0.0</td>\n",
       "      <td>0.0</td>\n",
       "      <td>0.0</td>\n",
       "      <td>1.0</td>\n",
       "      <td>0.0</td>\n",
       "      <td>0.0</td>\n",
       "      <td>0.0</td>\n",
       "      <td>0.0</td>\n",
       "      <td>0.0</td>\n",
       "      <td>0.0</td>\n",
       "      <td>0.0</td>\n",
       "      <td>0.0</td>\n",
       "      <td>0.0</td>\n",
       "      <td>0.0</td>\n",
       "      <td>0.0</td>\n",
       "      <td>0.0</td>\n",
       "      <td>0.0</td>\n",
       "      <td>0.0</td>\n",
       "      <td>0.0</td>\n",
       "      <td>0.0</td>\n",
       "      <td>0.0</td>\n",
       "      <td>0.0</td>\n",
       "      <td>0.0</td>\n",
       "      <td>0.0</td>\n",
       "      <td>0.0</td>\n",
       "      <td>0.0</td>\n",
       "      <td>0.0</td>\n",
       "      <td>0.0</td>\n",
       "      <td>0.0</td>\n",
       "      <td>0.0</td>\n",
       "      <td>0.0</td>\n",
       "      <td>0.0</td>\n",
       "      <td>0.0</td>\n",
       "      <td>0.0</td>\n",
       "      <td>0.0</td>\n",
       "      <td>0.0</td>\n",
       "      <td>0.0</td>\n",
       "      <td>0.0</td>\n",
       "      <td>0.0</td>\n",
       "      <td>0.0</td>\n",
       "      <td>0.0</td>\n",
       "      <td>0.0</td>\n",
       "      <td>1.0</td>\n",
       "      <td>0.0</td>\n",
       "      <td>0.0</td>\n",
       "      <td>0.0</td>\n",
       "      <td>1.0</td>\n",
       "      <td>0.0</td>\n",
       "      <td>1.0</td>\n",
       "      <td>1.0</td>\n",
       "      <td>0.0</td>\n",
       "      <td>0.0</td>\n",
       "      <td>0.0</td>\n",
       "      <td>1.0</td>\n",
       "      <td>0.0</td>\n",
       "      <td>0.0</td>\n",
       "      <td>0.0</td>\n",
       "      <td>0.0</td>\n",
       "      <td>0.0</td>\n",
       "      <td>0.0</td>\n",
       "      <td>0.0</td>\n",
       "      <td>0.0</td>\n",
       "      <td>0.0</td>\n",
       "      <td>0.0</td>\n",
       "      <td>0.0</td>\n",
       "      <td>0.0</td>\n",
       "      <td>1.0</td>\n",
       "      <td>0.0</td>\n",
       "      <td>0.0</td>\n",
       "      <td>0</td>\n",
       "    </tr>\n",
       "    <tr>\n",
       "      <th>3</th>\n",
       "      <td>0.475038</td>\n",
       "      <td>0.652406</td>\n",
       "      <td>-0.930981</td>\n",
       "      <td>-0.664420</td>\n",
       "      <td>-0.166793</td>\n",
       "      <td>-1.135696</td>\n",
       "      <td>-1.031687</td>\n",
       "      <td>-0.365471</td>\n",
       "      <td>-1.379759</td>\n",
       "      <td>-0.136272</td>\n",
       "      <td>0.122553</td>\n",
       "      <td>0.0</td>\n",
       "      <td>0.0</td>\n",
       "      <td>0.0</td>\n",
       "      <td>0.0</td>\n",
       "      <td>0.0</td>\n",
       "      <td>0.0</td>\n",
       "      <td>0.0</td>\n",
       "      <td>0.0</td>\n",
       "      <td>0.0</td>\n",
       "      <td>0.0</td>\n",
       "      <td>0.0</td>\n",
       "      <td>0.0</td>\n",
       "      <td>0.0</td>\n",
       "      <td>0.0</td>\n",
       "      <td>0.0</td>\n",
       "      <td>0.0</td>\n",
       "      <td>0.0</td>\n",
       "      <td>0.0</td>\n",
       "      <td>0.0</td>\n",
       "      <td>0.0</td>\n",
       "      <td>1.0</td>\n",
       "      <td>0.0</td>\n",
       "      <td>0.0</td>\n",
       "      <td>0.0</td>\n",
       "      <td>0.0</td>\n",
       "      <td>0.0</td>\n",
       "      <td>0.0</td>\n",
       "      <td>0.0</td>\n",
       "      <td>0.0</td>\n",
       "      <td>0.0</td>\n",
       "      <td>0.0</td>\n",
       "      <td>0.0</td>\n",
       "      <td>0.0</td>\n",
       "      <td>0.0</td>\n",
       "      <td>0.0</td>\n",
       "      <td>0.0</td>\n",
       "      <td>0.0</td>\n",
       "      <td>0.0</td>\n",
       "      <td>0.0</td>\n",
       "      <td>0.0</td>\n",
       "      <td>0.0</td>\n",
       "      <td>0.0</td>\n",
       "      <td>0.0</td>\n",
       "      <td>0.0</td>\n",
       "      <td>0.0</td>\n",
       "      <td>0.0</td>\n",
       "      <td>1.0</td>\n",
       "      <td>0.0</td>\n",
       "      <td>1.0</td>\n",
       "      <td>0.0</td>\n",
       "      <td>0.0</td>\n",
       "      <td>1.0</td>\n",
       "      <td>0.0</td>\n",
       "      <td>0.0</td>\n",
       "      <td>1.0</td>\n",
       "      <td>0.0</td>\n",
       "      <td>0.0</td>\n",
       "      <td>0.0</td>\n",
       "      <td>0.0</td>\n",
       "      <td>0.0</td>\n",
       "      <td>0.0</td>\n",
       "      <td>1.0</td>\n",
       "      <td>0.0</td>\n",
       "      <td>0.0</td>\n",
       "      <td>0.0</td>\n",
       "      <td>0.0</td>\n",
       "      <td>0.0</td>\n",
       "      <td>0.0</td>\n",
       "      <td>0.0</td>\n",
       "      <td>0.0</td>\n",
       "      <td>0.0</td>\n",
       "      <td>1.0</td>\n",
       "      <td>0</td>\n",
       "    </tr>\n",
       "    <tr>\n",
       "      <th>4</th>\n",
       "      <td>0.475038</td>\n",
       "      <td>0.319123</td>\n",
       "      <td>-0.930981</td>\n",
       "      <td>1.168791</td>\n",
       "      <td>-0.166793</td>\n",
       "      <td>-0.590250</td>\n",
       "      <td>-1.031687</td>\n",
       "      <td>-0.350520</td>\n",
       "      <td>-0.373017</td>\n",
       "      <td>-0.241899</td>\n",
       "      <td>0.597293</td>\n",
       "      <td>0.0</td>\n",
       "      <td>0.0</td>\n",
       "      <td>0.0</td>\n",
       "      <td>0.0</td>\n",
       "      <td>0.0</td>\n",
       "      <td>1.0</td>\n",
       "      <td>0.0</td>\n",
       "      <td>0.0</td>\n",
       "      <td>0.0</td>\n",
       "      <td>0.0</td>\n",
       "      <td>0.0</td>\n",
       "      <td>0.0</td>\n",
       "      <td>0.0</td>\n",
       "      <td>0.0</td>\n",
       "      <td>0.0</td>\n",
       "      <td>0.0</td>\n",
       "      <td>0.0</td>\n",
       "      <td>0.0</td>\n",
       "      <td>0.0</td>\n",
       "      <td>0.0</td>\n",
       "      <td>0.0</td>\n",
       "      <td>0.0</td>\n",
       "      <td>0.0</td>\n",
       "      <td>0.0</td>\n",
       "      <td>0.0</td>\n",
       "      <td>0.0</td>\n",
       "      <td>0.0</td>\n",
       "      <td>0.0</td>\n",
       "      <td>0.0</td>\n",
       "      <td>0.0</td>\n",
       "      <td>0.0</td>\n",
       "      <td>0.0</td>\n",
       "      <td>0.0</td>\n",
       "      <td>0.0</td>\n",
       "      <td>0.0</td>\n",
       "      <td>0.0</td>\n",
       "      <td>0.0</td>\n",
       "      <td>0.0</td>\n",
       "      <td>0.0</td>\n",
       "      <td>0.0</td>\n",
       "      <td>0.0</td>\n",
       "      <td>0.0</td>\n",
       "      <td>0.0</td>\n",
       "      <td>0.0</td>\n",
       "      <td>0.0</td>\n",
       "      <td>0.0</td>\n",
       "      <td>1.0</td>\n",
       "      <td>0.0</td>\n",
       "      <td>1.0</td>\n",
       "      <td>0.0</td>\n",
       "      <td>1.0</td>\n",
       "      <td>0.0</td>\n",
       "      <td>1.0</td>\n",
       "      <td>0.0</td>\n",
       "      <td>0.0</td>\n",
       "      <td>0.0</td>\n",
       "      <td>0.0</td>\n",
       "      <td>0.0</td>\n",
       "      <td>0.0</td>\n",
       "      <td>0.0</td>\n",
       "      <td>1.0</td>\n",
       "      <td>0.0</td>\n",
       "      <td>0.0</td>\n",
       "      <td>0.0</td>\n",
       "      <td>0.0</td>\n",
       "      <td>0.0</td>\n",
       "      <td>0.0</td>\n",
       "      <td>0.0</td>\n",
       "      <td>1.0</td>\n",
       "      <td>0.0</td>\n",
       "      <td>0.0</td>\n",
       "      <td>0.0</td>\n",
       "      <td>0</td>\n",
       "    </tr>\n",
       "    <tr>\n",
       "      <th>5</th>\n",
       "      <td>-0.688048</td>\n",
       "      <td>-2.437894</td>\n",
       "      <td>-0.930981</td>\n",
       "      <td>-0.492556</td>\n",
       "      <td>-0.166793</td>\n",
       "      <td>-1.356551</td>\n",
       "      <td>0.969286</td>\n",
       "      <td>0.555759</td>\n",
       "      <td>1.206192</td>\n",
       "      <td>0.672741</td>\n",
       "      <td>0.249500</td>\n",
       "      <td>0.0</td>\n",
       "      <td>0.0</td>\n",
       "      <td>0.0</td>\n",
       "      <td>0.0</td>\n",
       "      <td>0.0</td>\n",
       "      <td>0.0</td>\n",
       "      <td>0.0</td>\n",
       "      <td>0.0</td>\n",
       "      <td>0.0</td>\n",
       "      <td>0.0</td>\n",
       "      <td>0.0</td>\n",
       "      <td>0.0</td>\n",
       "      <td>0.0</td>\n",
       "      <td>0.0</td>\n",
       "      <td>0.0</td>\n",
       "      <td>0.0</td>\n",
       "      <td>0.0</td>\n",
       "      <td>0.0</td>\n",
       "      <td>0.0</td>\n",
       "      <td>0.0</td>\n",
       "      <td>0.0</td>\n",
       "      <td>0.0</td>\n",
       "      <td>0.0</td>\n",
       "      <td>0.0</td>\n",
       "      <td>0.0</td>\n",
       "      <td>0.0</td>\n",
       "      <td>0.0</td>\n",
       "      <td>0.0</td>\n",
       "      <td>1.0</td>\n",
       "      <td>0.0</td>\n",
       "      <td>0.0</td>\n",
       "      <td>0.0</td>\n",
       "      <td>0.0</td>\n",
       "      <td>0.0</td>\n",
       "      <td>0.0</td>\n",
       "      <td>0.0</td>\n",
       "      <td>1.0</td>\n",
       "      <td>0.0</td>\n",
       "      <td>0.0</td>\n",
       "      <td>0.0</td>\n",
       "      <td>0.0</td>\n",
       "      <td>0.0</td>\n",
       "      <td>0.0</td>\n",
       "      <td>0.0</td>\n",
       "      <td>0.0</td>\n",
       "      <td>0.0</td>\n",
       "      <td>0.0</td>\n",
       "      <td>0.0</td>\n",
       "      <td>1.0</td>\n",
       "      <td>0.0</td>\n",
       "      <td>0.0</td>\n",
       "      <td>1.0</td>\n",
       "      <td>0.0</td>\n",
       "      <td>0.0</td>\n",
       "      <td>1.0</td>\n",
       "      <td>0.0</td>\n",
       "      <td>0.0</td>\n",
       "      <td>0.0</td>\n",
       "      <td>0.0</td>\n",
       "      <td>0.0</td>\n",
       "      <td>0.0</td>\n",
       "      <td>1.0</td>\n",
       "      <td>0.0</td>\n",
       "      <td>0.0</td>\n",
       "      <td>0.0</td>\n",
       "      <td>0.0</td>\n",
       "      <td>0.0</td>\n",
       "      <td>0.0</td>\n",
       "      <td>0.0</td>\n",
       "      <td>0.0</td>\n",
       "      <td>0.0</td>\n",
       "      <td>1.0</td>\n",
       "      <td>0</td>\n",
       "    </tr>\n",
       "    <tr>\n",
       "      <th>6</th>\n",
       "      <td>-0.106505</td>\n",
       "      <td>0.066890</td>\n",
       "      <td>-0.930981</td>\n",
       "      <td>-1.237298</td>\n",
       "      <td>-0.166793</td>\n",
       "      <td>-1.177525</td>\n",
       "      <td>0.969286</td>\n",
       "      <td>-0.792041</td>\n",
       "      <td>-0.899194</td>\n",
       "      <td>0.143282</td>\n",
       "      <td>-0.582528</td>\n",
       "      <td>0.0</td>\n",
       "      <td>0.0</td>\n",
       "      <td>0.0</td>\n",
       "      <td>0.0</td>\n",
       "      <td>0.0</td>\n",
       "      <td>0.0</td>\n",
       "      <td>0.0</td>\n",
       "      <td>0.0</td>\n",
       "      <td>0.0</td>\n",
       "      <td>0.0</td>\n",
       "      <td>0.0</td>\n",
       "      <td>0.0</td>\n",
       "      <td>0.0</td>\n",
       "      <td>0.0</td>\n",
       "      <td>0.0</td>\n",
       "      <td>0.0</td>\n",
       "      <td>0.0</td>\n",
       "      <td>0.0</td>\n",
       "      <td>0.0</td>\n",
       "      <td>0.0</td>\n",
       "      <td>0.0</td>\n",
       "      <td>0.0</td>\n",
       "      <td>0.0</td>\n",
       "      <td>0.0</td>\n",
       "      <td>0.0</td>\n",
       "      <td>0.0</td>\n",
       "      <td>0.0</td>\n",
       "      <td>0.0</td>\n",
       "      <td>1.0</td>\n",
       "      <td>0.0</td>\n",
       "      <td>0.0</td>\n",
       "      <td>0.0</td>\n",
       "      <td>0.0</td>\n",
       "      <td>0.0</td>\n",
       "      <td>0.0</td>\n",
       "      <td>0.0</td>\n",
       "      <td>0.0</td>\n",
       "      <td>0.0</td>\n",
       "      <td>0.0</td>\n",
       "      <td>0.0</td>\n",
       "      <td>0.0</td>\n",
       "      <td>0.0</td>\n",
       "      <td>0.0</td>\n",
       "      <td>0.0</td>\n",
       "      <td>1.0</td>\n",
       "      <td>0.0</td>\n",
       "      <td>0.0</td>\n",
       "      <td>0.0</td>\n",
       "      <td>1.0</td>\n",
       "      <td>0.0</td>\n",
       "      <td>1.0</td>\n",
       "      <td>0.0</td>\n",
       "      <td>0.0</td>\n",
       "      <td>0.0</td>\n",
       "      <td>1.0</td>\n",
       "      <td>0.0</td>\n",
       "      <td>0.0</td>\n",
       "      <td>0.0</td>\n",
       "      <td>0.0</td>\n",
       "      <td>0.0</td>\n",
       "      <td>0.0</td>\n",
       "      <td>1.0</td>\n",
       "      <td>0.0</td>\n",
       "      <td>0.0</td>\n",
       "      <td>0.0</td>\n",
       "      <td>0.0</td>\n",
       "      <td>0.0</td>\n",
       "      <td>0.0</td>\n",
       "      <td>0.0</td>\n",
       "      <td>0.0</td>\n",
       "      <td>0.0</td>\n",
       "      <td>1.0</td>\n",
       "      <td>0</td>\n",
       "    </tr>\n",
       "    <tr>\n",
       "      <th>7</th>\n",
       "      <td>0.475038</td>\n",
       "      <td>0.577501</td>\n",
       "      <td>-0.930981</td>\n",
       "      <td>0.538625</td>\n",
       "      <td>-0.166793</td>\n",
       "      <td>0.194455</td>\n",
       "      <td>0.969286</td>\n",
       "      <td>-0.674444</td>\n",
       "      <td>-0.091268</td>\n",
       "      <td>1.367437</td>\n",
       "      <td>1.874114</td>\n",
       "      <td>0.0</td>\n",
       "      <td>0.0</td>\n",
       "      <td>0.0</td>\n",
       "      <td>0.0</td>\n",
       "      <td>0.0</td>\n",
       "      <td>1.0</td>\n",
       "      <td>0.0</td>\n",
       "      <td>0.0</td>\n",
       "      <td>0.0</td>\n",
       "      <td>0.0</td>\n",
       "      <td>0.0</td>\n",
       "      <td>0.0</td>\n",
       "      <td>0.0</td>\n",
       "      <td>0.0</td>\n",
       "      <td>0.0</td>\n",
       "      <td>0.0</td>\n",
       "      <td>0.0</td>\n",
       "      <td>0.0</td>\n",
       "      <td>0.0</td>\n",
       "      <td>0.0</td>\n",
       "      <td>0.0</td>\n",
       "      <td>0.0</td>\n",
       "      <td>0.0</td>\n",
       "      <td>0.0</td>\n",
       "      <td>0.0</td>\n",
       "      <td>0.0</td>\n",
       "      <td>0.0</td>\n",
       "      <td>0.0</td>\n",
       "      <td>0.0</td>\n",
       "      <td>0.0</td>\n",
       "      <td>0.0</td>\n",
       "      <td>0.0</td>\n",
       "      <td>0.0</td>\n",
       "      <td>0.0</td>\n",
       "      <td>0.0</td>\n",
       "      <td>0.0</td>\n",
       "      <td>0.0</td>\n",
       "      <td>0.0</td>\n",
       "      <td>0.0</td>\n",
       "      <td>0.0</td>\n",
       "      <td>0.0</td>\n",
       "      <td>0.0</td>\n",
       "      <td>0.0</td>\n",
       "      <td>0.0</td>\n",
       "      <td>1.0</td>\n",
       "      <td>0.0</td>\n",
       "      <td>0.0</td>\n",
       "      <td>0.0</td>\n",
       "      <td>1.0</td>\n",
       "      <td>0.0</td>\n",
       "      <td>0.0</td>\n",
       "      <td>1.0</td>\n",
       "      <td>1.0</td>\n",
       "      <td>0.0</td>\n",
       "      <td>0.0</td>\n",
       "      <td>0.0</td>\n",
       "      <td>0.0</td>\n",
       "      <td>0.0</td>\n",
       "      <td>0.0</td>\n",
       "      <td>0.0</td>\n",
       "      <td>0.0</td>\n",
       "      <td>0.0</td>\n",
       "      <td>1.0</td>\n",
       "      <td>0.0</td>\n",
       "      <td>0.0</td>\n",
       "      <td>0.0</td>\n",
       "      <td>0.0</td>\n",
       "      <td>0.0</td>\n",
       "      <td>1.0</td>\n",
       "      <td>0.0</td>\n",
       "      <td>0.0</td>\n",
       "      <td>0.0</td>\n",
       "      <td>0</td>\n",
       "    </tr>\n",
       "    <tr>\n",
       "      <th>8</th>\n",
       "      <td>0.475038</td>\n",
       "      <td>1.038062</td>\n",
       "      <td>-0.930981</td>\n",
       "      <td>1.913533</td>\n",
       "      <td>-0.166793</td>\n",
       "      <td>-0.702351</td>\n",
       "      <td>0.969286</td>\n",
       "      <td>-0.801313</td>\n",
       "      <td>-0.995639</td>\n",
       "      <td>-0.737769</td>\n",
       "      <td>-0.943362</td>\n",
       "      <td>0.0</td>\n",
       "      <td>0.0</td>\n",
       "      <td>0.0</td>\n",
       "      <td>0.0</td>\n",
       "      <td>0.0</td>\n",
       "      <td>0.0</td>\n",
       "      <td>1.0</td>\n",
       "      <td>0.0</td>\n",
       "      <td>0.0</td>\n",
       "      <td>0.0</td>\n",
       "      <td>0.0</td>\n",
       "      <td>0.0</td>\n",
       "      <td>0.0</td>\n",
       "      <td>0.0</td>\n",
       "      <td>0.0</td>\n",
       "      <td>0.0</td>\n",
       "      <td>0.0</td>\n",
       "      <td>0.0</td>\n",
       "      <td>0.0</td>\n",
       "      <td>0.0</td>\n",
       "      <td>0.0</td>\n",
       "      <td>0.0</td>\n",
       "      <td>0.0</td>\n",
       "      <td>0.0</td>\n",
       "      <td>0.0</td>\n",
       "      <td>0.0</td>\n",
       "      <td>0.0</td>\n",
       "      <td>0.0</td>\n",
       "      <td>0.0</td>\n",
       "      <td>0.0</td>\n",
       "      <td>0.0</td>\n",
       "      <td>0.0</td>\n",
       "      <td>0.0</td>\n",
       "      <td>0.0</td>\n",
       "      <td>0.0</td>\n",
       "      <td>0.0</td>\n",
       "      <td>0.0</td>\n",
       "      <td>0.0</td>\n",
       "      <td>1.0</td>\n",
       "      <td>0.0</td>\n",
       "      <td>0.0</td>\n",
       "      <td>0.0</td>\n",
       "      <td>0.0</td>\n",
       "      <td>0.0</td>\n",
       "      <td>0.0</td>\n",
       "      <td>0.0</td>\n",
       "      <td>0.0</td>\n",
       "      <td>0.0</td>\n",
       "      <td>1.0</td>\n",
       "      <td>0.0</td>\n",
       "      <td>1.0</td>\n",
       "      <td>0.0</td>\n",
       "      <td>1.0</td>\n",
       "      <td>0.0</td>\n",
       "      <td>0.0</td>\n",
       "      <td>0.0</td>\n",
       "      <td>0.0</td>\n",
       "      <td>0.0</td>\n",
       "      <td>0.0</td>\n",
       "      <td>0.0</td>\n",
       "      <td>1.0</td>\n",
       "      <td>0.0</td>\n",
       "      <td>0.0</td>\n",
       "      <td>0.0</td>\n",
       "      <td>0.0</td>\n",
       "      <td>0.0</td>\n",
       "      <td>0.0</td>\n",
       "      <td>0.0</td>\n",
       "      <td>0.0</td>\n",
       "      <td>1.0</td>\n",
       "      <td>0.0</td>\n",
       "      <td>0.0</td>\n",
       "      <td>0</td>\n",
       "    </tr>\n",
       "    <tr>\n",
       "      <th>9</th>\n",
       "      <td>1.056581</td>\n",
       "      <td>0.172522</td>\n",
       "      <td>-0.930981</td>\n",
       "      <td>1.970821</td>\n",
       "      <td>-0.166793</td>\n",
       "      <td>-0.590250</td>\n",
       "      <td>0.969286</td>\n",
       "      <td>0.011925</td>\n",
       "      <td>0.410303</td>\n",
       "      <td>0.789847</td>\n",
       "      <td>0.598396</td>\n",
       "      <td>0.0</td>\n",
       "      <td>0.0</td>\n",
       "      <td>0.0</td>\n",
       "      <td>0.0</td>\n",
       "      <td>0.0</td>\n",
       "      <td>1.0</td>\n",
       "      <td>0.0</td>\n",
       "      <td>0.0</td>\n",
       "      <td>0.0</td>\n",
       "      <td>0.0</td>\n",
       "      <td>0.0</td>\n",
       "      <td>0.0</td>\n",
       "      <td>0.0</td>\n",
       "      <td>0.0</td>\n",
       "      <td>0.0</td>\n",
       "      <td>0.0</td>\n",
       "      <td>0.0</td>\n",
       "      <td>0.0</td>\n",
       "      <td>0.0</td>\n",
       "      <td>0.0</td>\n",
       "      <td>0.0</td>\n",
       "      <td>0.0</td>\n",
       "      <td>0.0</td>\n",
       "      <td>0.0</td>\n",
       "      <td>0.0</td>\n",
       "      <td>0.0</td>\n",
       "      <td>0.0</td>\n",
       "      <td>0.0</td>\n",
       "      <td>0.0</td>\n",
       "      <td>0.0</td>\n",
       "      <td>0.0</td>\n",
       "      <td>0.0</td>\n",
       "      <td>0.0</td>\n",
       "      <td>0.0</td>\n",
       "      <td>0.0</td>\n",
       "      <td>0.0</td>\n",
       "      <td>0.0</td>\n",
       "      <td>0.0</td>\n",
       "      <td>0.0</td>\n",
       "      <td>0.0</td>\n",
       "      <td>0.0</td>\n",
       "      <td>0.0</td>\n",
       "      <td>0.0</td>\n",
       "      <td>1.0</td>\n",
       "      <td>0.0</td>\n",
       "      <td>0.0</td>\n",
       "      <td>0.0</td>\n",
       "      <td>0.0</td>\n",
       "      <td>1.0</td>\n",
       "      <td>0.0</td>\n",
       "      <td>1.0</td>\n",
       "      <td>0.0</td>\n",
       "      <td>1.0</td>\n",
       "      <td>0.0</td>\n",
       "      <td>0.0</td>\n",
       "      <td>0.0</td>\n",
       "      <td>0.0</td>\n",
       "      <td>0.0</td>\n",
       "      <td>0.0</td>\n",
       "      <td>0.0</td>\n",
       "      <td>1.0</td>\n",
       "      <td>0.0</td>\n",
       "      <td>0.0</td>\n",
       "      <td>0.0</td>\n",
       "      <td>0.0</td>\n",
       "      <td>0.0</td>\n",
       "      <td>0.0</td>\n",
       "      <td>0.0</td>\n",
       "      <td>1.0</td>\n",
       "      <td>0.0</td>\n",
       "      <td>0.0</td>\n",
       "      <td>0.0</td>\n",
       "      <td>0</td>\n",
       "    </tr>\n",
       "  </tbody>\n",
       "</table>\n",
       "</div>"
      ],
      "text/plain": [
       "   VehicleAge    VehOdo    VNZIP1  VehBCost  IsOnlineSale  WarrantyCost  \\\n",
       "0   -0.106505  0.157568 -0.930981 -1.065435     -0.166793      0.194455   \n",
       "1    0.475038 -0.401661 -0.930981 -1.523737     -0.166793     -1.075463   \n",
       "2   -0.106505 -0.145604 -0.930981 -1.581025     -0.166793     -0.422936   \n",
       "3    0.475038  0.652406 -0.930981 -0.664420     -0.166793     -1.135696   \n",
       "4    0.475038  0.319123 -0.930981  1.168791     -0.166793     -0.590250   \n",
       "5   -0.688048 -2.437894 -0.930981 -0.492556     -0.166793     -1.356551   \n",
       "6   -0.106505  0.066890 -0.930981 -1.237298     -0.166793     -1.177525   \n",
       "7    0.475038  0.577501 -0.930981  0.538625     -0.166793      0.194455   \n",
       "8    0.475038  1.038062 -0.930981  1.913533     -0.166793     -0.702351   \n",
       "9    1.056581  0.172522 -0.930981  1.970821     -0.166793     -0.590250   \n",
       "\n",
       "   PurchYear  AcquisitionAuctionRatio  AcquisitionRetailRatio  \\\n",
       "0  -1.031687                -2.234466               -0.625095   \n",
       "1  -1.031687                -1.699265               -0.670383   \n",
       "2  -1.031687                -0.680499                0.648377   \n",
       "3  -1.031687                -0.365471               -1.379759   \n",
       "4  -1.031687                -0.350520               -0.373017   \n",
       "5   0.969286                 0.555759                1.206192   \n",
       "6   0.969286                -0.792041               -0.899194   \n",
       "7   0.969286                -0.674444               -0.091268   \n",
       "8   0.969286                -0.801313               -0.995639   \n",
       "9   0.969286                 0.011925                0.410303   \n",
       "\n",
       "   CurrentAuctionRatio  CurrentRetailRatio  Make_ACURA  Make_BUICK  \\\n",
       "0            -1.407804           -0.679097         0.0         0.0   \n",
       "1            -1.860623           -1.232409         0.0         0.0   \n",
       "2            -1.182456           -0.080270         0.0         0.0   \n",
       "3            -0.136272            0.122553         0.0         0.0   \n",
       "4            -0.241899            0.597293         0.0         0.0   \n",
       "5             0.672741            0.249500         0.0         0.0   \n",
       "6             0.143282           -0.582528         0.0         0.0   \n",
       "7             1.367437            1.874114         0.0         0.0   \n",
       "8            -0.737769           -0.943362         0.0         0.0   \n",
       "9             0.789847            0.598396         0.0         0.0   \n",
       "\n",
       "   Make_CADILLAC  Make_CHEVROLET  Make_CHRYSLER  Make_DODGE  Make_FORD  \\\n",
       "0            0.0             0.0            0.0         1.0        0.0   \n",
       "1            0.0             0.0            0.0         1.0        0.0   \n",
       "2            0.0             0.0            0.0         0.0        1.0   \n",
       "3            0.0             0.0            0.0         0.0        0.0   \n",
       "4            0.0             0.0            0.0         1.0        0.0   \n",
       "5            0.0             0.0            0.0         0.0        0.0   \n",
       "6            0.0             0.0            0.0         0.0        0.0   \n",
       "7            0.0             0.0            0.0         1.0        0.0   \n",
       "8            0.0             0.0            0.0         0.0        1.0   \n",
       "9            0.0             0.0            0.0         1.0        0.0   \n",
       "\n",
       "   Make_GMC  Make_HONDA  Make_HUMMER  Make_HYUNDAI  Make_INFINITI  Make_ISUZU  \\\n",
       "0       0.0         0.0          0.0           0.0            0.0         0.0   \n",
       "1       0.0         0.0          0.0           0.0            0.0         0.0   \n",
       "2       0.0         0.0          0.0           0.0            0.0         0.0   \n",
       "3       0.0         0.0          0.0           0.0            0.0         0.0   \n",
       "4       0.0         0.0          0.0           0.0            0.0         0.0   \n",
       "5       0.0         0.0          0.0           0.0            0.0         0.0   \n",
       "6       0.0         0.0          0.0           0.0            0.0         0.0   \n",
       "7       0.0         0.0          0.0           0.0            0.0         0.0   \n",
       "8       0.0         0.0          0.0           0.0            0.0         0.0   \n",
       "9       0.0         0.0          0.0           0.0            0.0         0.0   \n",
       "\n",
       "   Make_JEEP  Make_KIA  Make_LEXUS  Make_LINCOLN  Make_MAZDA  Make_MERCURY  \\\n",
       "0        0.0       0.0         0.0           0.0         0.0           0.0   \n",
       "1        0.0       0.0         0.0           0.0         0.0           0.0   \n",
       "2        0.0       0.0         0.0           0.0         0.0           0.0   \n",
       "3        0.0       0.0         0.0           0.0         0.0           0.0   \n",
       "4        0.0       0.0         0.0           0.0         0.0           0.0   \n",
       "5        0.0       0.0         0.0           0.0         0.0           0.0   \n",
       "6        0.0       0.0         0.0           0.0         0.0           0.0   \n",
       "7        0.0       0.0         0.0           0.0         0.0           0.0   \n",
       "8        0.0       0.0         0.0           0.0         0.0           0.0   \n",
       "9        0.0       0.0         0.0           0.0         0.0           0.0   \n",
       "\n",
       "   Make_MINI  Make_MITSUBISHI  Make_NISSAN  Make_OLDSMOBILE  Make_PLYMOUTH  \\\n",
       "0        0.0              0.0          0.0              0.0            0.0   \n",
       "1        0.0              0.0          0.0              0.0            0.0   \n",
       "2        0.0              0.0          0.0              0.0            0.0   \n",
       "3        0.0              1.0          0.0              0.0            0.0   \n",
       "4        0.0              0.0          0.0              0.0            0.0   \n",
       "5        0.0              0.0          0.0              0.0            0.0   \n",
       "6        0.0              0.0          0.0              0.0            0.0   \n",
       "7        0.0              0.0          0.0              0.0            0.0   \n",
       "8        0.0              0.0          0.0              0.0            0.0   \n",
       "9        0.0              0.0          0.0              0.0            0.0   \n",
       "\n",
       "   Make_PONTIAC  Make_SATURN  Make_SCION  Make_SUBARU  Make_SUZUKI  \\\n",
       "0           0.0          0.0         0.0          0.0          0.0   \n",
       "1           0.0          0.0         0.0          0.0          0.0   \n",
       "2           0.0          0.0         0.0          0.0          0.0   \n",
       "3           0.0          0.0         0.0          0.0          0.0   \n",
       "4           0.0          0.0         0.0          0.0          0.0   \n",
       "5           0.0          0.0         0.0          0.0          1.0   \n",
       "6           0.0          0.0         0.0          0.0          1.0   \n",
       "7           0.0          0.0         0.0          0.0          0.0   \n",
       "8           0.0          0.0         0.0          0.0          0.0   \n",
       "9           0.0          0.0         0.0          0.0          0.0   \n",
       "\n",
       "   Make_TOYOTA  Make_VOLKSWAGEN  Make_VOLVO  Color_BEIGE  Color_BLACK  \\\n",
       "0          0.0              0.0         0.0          0.0          0.0   \n",
       "1          0.0              0.0         0.0          0.0          0.0   \n",
       "2          0.0              0.0         0.0          0.0          0.0   \n",
       "3          0.0              0.0         0.0          0.0          0.0   \n",
       "4          0.0              0.0         0.0          0.0          0.0   \n",
       "5          0.0              0.0         0.0          0.0          0.0   \n",
       "6          0.0              0.0         0.0          0.0          0.0   \n",
       "7          0.0              0.0         0.0          0.0          0.0   \n",
       "8          0.0              0.0         0.0          0.0          0.0   \n",
       "9          0.0              0.0         0.0          0.0          0.0   \n",
       "\n",
       "   Color_BLUE  Color_BROWN  Color_GOLD  Color_GREEN  Color_GREY  Color_MAROON  \\\n",
       "0         0.0          0.0         0.0          0.0         0.0           1.0   \n",
       "1         0.0          0.0         0.0          0.0         0.0           0.0   \n",
       "2         0.0          0.0         0.0          0.0         0.0           0.0   \n",
       "3         0.0          0.0         0.0          0.0         0.0           0.0   \n",
       "4         0.0          0.0         0.0          0.0         0.0           0.0   \n",
       "5         0.0          0.0         1.0          0.0         0.0           0.0   \n",
       "6         0.0          0.0         0.0          0.0         0.0           0.0   \n",
       "7         0.0          0.0         0.0          0.0         0.0           0.0   \n",
       "8         0.0          0.0         0.0          0.0         1.0           0.0   \n",
       "9         0.0          0.0         0.0          0.0         0.0           0.0   \n",
       "\n",
       "   Color_NOT AVAIL  Color_ORANGE  Color_OTHER  Color_PURPLE  Color_RED  \\\n",
       "0              0.0           0.0          0.0           0.0        0.0   \n",
       "1              0.0           0.0          0.0           0.0        0.0   \n",
       "2              0.0           0.0          0.0           0.0        0.0   \n",
       "3              0.0           0.0          0.0           0.0        0.0   \n",
       "4              0.0           0.0          0.0           0.0        0.0   \n",
       "5              0.0           0.0          0.0           0.0        0.0   \n",
       "6              0.0           0.0          0.0           0.0        1.0   \n",
       "7              0.0           0.0          0.0           0.0        1.0   \n",
       "8              0.0           0.0          0.0           0.0        0.0   \n",
       "9              0.0           0.0          0.0           1.0        0.0   \n",
       "\n",
       "   Color_SILVER  Color_WHITE  Color_YELLOW  Transmission_AUTO  \\\n",
       "0           0.0          0.0           0.0                1.0   \n",
       "1           1.0          0.0           0.0                1.0   \n",
       "2           1.0          0.0           0.0                0.0   \n",
       "3           0.0          1.0           0.0                1.0   \n",
       "4           0.0          1.0           0.0                1.0   \n",
       "5           0.0          0.0           0.0                1.0   \n",
       "6           0.0          0.0           0.0                1.0   \n",
       "7           0.0          0.0           0.0                1.0   \n",
       "8           0.0          0.0           0.0                1.0   \n",
       "9           0.0          0.0           0.0                1.0   \n",
       "\n",
       "   Transmission_MANUAL  WheelType_Alloy  WheelType_Covers  \\\n",
       "0                  0.0              0.0               1.0   \n",
       "1                  0.0              1.0               0.0   \n",
       "2                  1.0              0.0               1.0   \n",
       "3                  0.0              0.0               1.0   \n",
       "4                  0.0              1.0               0.0   \n",
       "5                  0.0              0.0               1.0   \n",
       "6                  0.0              1.0               0.0   \n",
       "7                  0.0              0.0               1.0   \n",
       "8                  0.0              1.0               0.0   \n",
       "9                  0.0              1.0               0.0   \n",
       "\n",
       "   Nationality_AMERICAN  Nationality_OTHER  Nationality_OTHER ASIAN  \\\n",
       "0                   1.0                0.0                      0.0   \n",
       "1                   1.0                0.0                      0.0   \n",
       "2                   1.0                0.0                      0.0   \n",
       "3                   0.0                0.0                      1.0   \n",
       "4                   1.0                0.0                      0.0   \n",
       "5                   0.0                0.0                      1.0   \n",
       "6                   0.0                0.0                      1.0   \n",
       "7                   1.0                0.0                      0.0   \n",
       "8                   1.0                0.0                      0.0   \n",
       "9                   1.0                0.0                      0.0   \n",
       "\n",
       "   Nationality_TOP LINE ASIAN  Size_COMPACT  Size_CROSSOVER  Size_LARGE  \\\n",
       "0                         0.0           0.0             0.0         0.0   \n",
       "1                         0.0           1.0             0.0         0.0   \n",
       "2                         0.0           1.0             0.0         0.0   \n",
       "3                         0.0           0.0             0.0         0.0   \n",
       "4                         0.0           0.0             0.0         0.0   \n",
       "5                         0.0           0.0             0.0         0.0   \n",
       "6                         0.0           0.0             0.0         0.0   \n",
       "7                         0.0           0.0             0.0         0.0   \n",
       "8                         0.0           0.0             0.0         0.0   \n",
       "9                         0.0           0.0             0.0         0.0   \n",
       "\n",
       "   Size_LARGE SUV  Size_LARGE TRUCK  Size_MEDIUM  Size_MEDIUM SUV  \\\n",
       "0             0.0               0.0          1.0              0.0   \n",
       "1             0.0               0.0          0.0              0.0   \n",
       "2             0.0               0.0          0.0              0.0   \n",
       "3             0.0               0.0          1.0              0.0   \n",
       "4             0.0               1.0          0.0              0.0   \n",
       "5             0.0               0.0          1.0              0.0   \n",
       "6             0.0               0.0          1.0              0.0   \n",
       "7             0.0               0.0          0.0              1.0   \n",
       "8             0.0               1.0          0.0              0.0   \n",
       "9             0.0               1.0          0.0              0.0   \n",
       "\n",
       "   Size_SMALL SUV  Size_SMALL TRUCK  Size_SPECIALTY  Size_SPORTS  Size_VAN  \\\n",
       "0             0.0               0.0             0.0          0.0       0.0   \n",
       "1             0.0               0.0             0.0          0.0       0.0   \n",
       "2             0.0               0.0             0.0          0.0       0.0   \n",
       "3             0.0               0.0             0.0          0.0       0.0   \n",
       "4             0.0               0.0             0.0          0.0       0.0   \n",
       "5             0.0               0.0             0.0          0.0       0.0   \n",
       "6             0.0               0.0             0.0          0.0       0.0   \n",
       "7             0.0               0.0             0.0          0.0       0.0   \n",
       "8             0.0               0.0             0.0          0.0       0.0   \n",
       "9             0.0               0.0             0.0          0.0       0.0   \n",
       "\n",
       "   TopThreeAmericanName_CHRYSLER  TopThreeAmericanName_FORD  \\\n",
       "0                            1.0                        0.0   \n",
       "1                            1.0                        0.0   \n",
       "2                            0.0                        1.0   \n",
       "3                            0.0                        0.0   \n",
       "4                            1.0                        0.0   \n",
       "5                            0.0                        0.0   \n",
       "6                            0.0                        0.0   \n",
       "7                            1.0                        0.0   \n",
       "8                            0.0                        1.0   \n",
       "9                            1.0                        0.0   \n",
       "\n",
       "   TopThreeAmericanName_GM  TopThreeAmericanName_OTHER  IsBadBuy  \n",
       "0                      0.0                         0.0         0  \n",
       "1                      0.0                         0.0         0  \n",
       "2                      0.0                         0.0         0  \n",
       "3                      0.0                         1.0         0  \n",
       "4                      0.0                         0.0         0  \n",
       "5                      0.0                         1.0         0  \n",
       "6                      0.0                         1.0         0  \n",
       "7                      0.0                         0.0         0  \n",
       "8                      0.0                         0.0         0  \n",
       "9                      0.0                         0.0         0  "
      ]
     },
     "execution_count": 3,
     "metadata": {},
     "output_type": "execute_result"
    }
   ],
   "source": [
    "data.head(10)"
   ]
  },
  {
   "cell_type": "code",
   "execution_count": 60,
   "id": "894c7a5d",
   "metadata": {},
   "outputs": [
    {
     "data": {
      "text/plain": [
       "0    5932\n",
       "1     866\n",
       "Name: IsBadBuy, dtype: int64"
      ]
     },
     "execution_count": 60,
     "metadata": {},
     "output_type": "execute_result"
    }
   ],
   "source": [
    "data[\"IsBadBuy\"].value_counts()\n",
    "#Vidimo znacajan disbalans izmedju pozitivne klase, (IsBadBuy - Yes, 1), i negativne klase (IsBadBuy- No, 0)\n",
    "#Gde je negativna klasa skoro sedam puta brojnija"
   ]
  },
  {
   "cell_type": "code",
   "execution_count": 4,
   "id": "3baeeb4d",
   "metadata": {},
   "outputs": [],
   "source": [
    "#Odvajamo izlaznu varijablu IsBadBuy i smestamo je u varijablu Y, ostale atribute smestamo u varijablu X\n",
    "X = data.drop(\"IsBadBuy\", axis = 1)\n",
    "Y = data['IsBadBuy']"
   ]
  },
  {
   "cell_type": "code",
   "execution_count": 5,
   "id": "bc7b1dc7",
   "metadata": {},
   "outputs": [],
   "source": [
    "from sklearn.metrics import confusion_matrix\n",
    "from sklearn.metrics import precision_score, recall_score, f1_score, accuracy_score, roc_auc_score\n",
    "\n",
    "\n",
    "#pravimo funkciju evaluateMetrics koja ce racunati accuracy, precision, recall i f1 statistiku u zavisnosti od izlazne varijable y \n",
    "#koju vec poznajemo i y_pred koje cemo dobiti predvidjanjem iz nekog modela\n",
    "def evaluate_metrics(Y, Y_pred):\n",
    "    print(f'Accuracy : {accuracy_score(Y, Y_pred)}')\n",
    "    print(f'Precision : {precision_score(Y, Y_pred)}')\n",
    "    print(f'Recall : {recall_score(Y, Y_pred)}')\n",
    "    print(f'F1 : {f1_score(Y, Y_pred)}')"
   ]
  },
  {
   "cell_type": "code",
   "execution_count": 6,
   "id": "b7f52cd8",
   "metadata": {},
   "outputs": [],
   "source": [
    "#delimo dataset na train i test\n",
    "from sklearn.model_selection import train_test_split\n",
    "X_train, X_test, Y_train, Y_test = train_test_split(X, Y, test_size=0.3, random_state=0)"
   ]
  },
  {
   "cell_type": "code",
   "execution_count": null,
   "id": "7654902e",
   "metadata": {},
   "outputs": [],
   "source": [
    "#Zbog nan i inf vrednosti koristimo privremeno resenje, kako bismo mogle da pravimo modele"
   ]
  },
  {
   "cell_type": "code",
   "execution_count": 10,
   "id": "160bb444",
   "metadata": {},
   "outputs": [],
   "source": [
    "X_train = X_train.replace((np.inf, -np.inf, np.nan), 0).reset_index(drop=True)\n",
    "X_test = X_test.replace((np.inf, -np.inf, np.nan), 0).reset_index(drop=True)\n",
    "#posto nam je izbacivao ovu gresku Input contains NaN, infinity or a value too large for dtype('float64').\n",
    "#nakon sredjivanja podataka, pronadjeno je resenje da se inf i nan vrednost zamene 0, svesno unosimo gresku u train set podataka"
   ]
  },
  {
   "cell_type": "code",
   "execution_count": 62,
   "id": "da7a51bf",
   "metadata": {},
   "outputs": [
    {
     "data": {
      "text/plain": [
       "0    1788\n",
       "1     252\n",
       "Name: IsBadBuy, dtype: int64"
      ]
     },
     "execution_count": 62,
     "metadata": {},
     "output_type": "execute_result"
    }
   ],
   "source": [
    "Y_test.value_counts()"
   ]
  },
  {
   "cell_type": "markdown",
   "id": "c3f49825",
   "metadata": {},
   "source": [
    "# Ispitujemo optimalne vrednosti hiperparametara za modele\n",
    "Modeli:\n",
    "- Stablo odlučivanja\n",
    "- Knn\n",
    "- Stacking\n",
    "- Bagging"
   ]
  },
  {
   "cell_type": "code",
   "execution_count": 49,
   "id": "47f54092",
   "metadata": {},
   "outputs": [],
   "source": [
    "#Ispitujemo različitu kombinaciju parametara za stablo odlučivanja, pomoću gridsearchcv metode\n",
    "#Ispitivacemo max_features tj optimalni broj atributa (iz dataseta), koje nas model treba da koristi\n",
    "#Min_samples_leaf, tj najmanji broj listova koji treba da se nadje na kraju svake grane\n",
    "#Max_depth, maksimalnu dubinu stabla\n",
    "from sklearn.tree import DecisionTreeClassifier\n",
    "from sklearn.model_selection import GridSearchCV"
   ]
  },
  {
   "cell_type": "code",
   "execution_count": 50,
   "id": "d4fc4f6d",
   "metadata": {},
   "outputs": [
    {
     "data": {
      "text/html": [
       "<style>#sk-container-id-11 {color: black;background-color: white;}#sk-container-id-11 pre{padding: 0;}#sk-container-id-11 div.sk-toggleable {background-color: white;}#sk-container-id-11 label.sk-toggleable__label {cursor: pointer;display: block;width: 100%;margin-bottom: 0;padding: 0.3em;box-sizing: border-box;text-align: center;}#sk-container-id-11 label.sk-toggleable__label-arrow:before {content: \"▸\";float: left;margin-right: 0.25em;color: #696969;}#sk-container-id-11 label.sk-toggleable__label-arrow:hover:before {color: black;}#sk-container-id-11 div.sk-estimator:hover label.sk-toggleable__label-arrow:before {color: black;}#sk-container-id-11 div.sk-toggleable__content {max-height: 0;max-width: 0;overflow: hidden;text-align: left;background-color: #f0f8ff;}#sk-container-id-11 div.sk-toggleable__content pre {margin: 0.2em;color: black;border-radius: 0.25em;background-color: #f0f8ff;}#sk-container-id-11 input.sk-toggleable__control:checked~div.sk-toggleable__content {max-height: 200px;max-width: 100%;overflow: auto;}#sk-container-id-11 input.sk-toggleable__control:checked~label.sk-toggleable__label-arrow:before {content: \"▾\";}#sk-container-id-11 div.sk-estimator input.sk-toggleable__control:checked~label.sk-toggleable__label {background-color: #d4ebff;}#sk-container-id-11 div.sk-label input.sk-toggleable__control:checked~label.sk-toggleable__label {background-color: #d4ebff;}#sk-container-id-11 input.sk-hidden--visually {border: 0;clip: rect(1px 1px 1px 1px);clip: rect(1px, 1px, 1px, 1px);height: 1px;margin: -1px;overflow: hidden;padding: 0;position: absolute;width: 1px;}#sk-container-id-11 div.sk-estimator {font-family: monospace;background-color: #f0f8ff;border: 1px dotted black;border-radius: 0.25em;box-sizing: border-box;margin-bottom: 0.5em;}#sk-container-id-11 div.sk-estimator:hover {background-color: #d4ebff;}#sk-container-id-11 div.sk-parallel-item::after {content: \"\";width: 100%;border-bottom: 1px solid gray;flex-grow: 1;}#sk-container-id-11 div.sk-label:hover label.sk-toggleable__label {background-color: #d4ebff;}#sk-container-id-11 div.sk-serial::before {content: \"\";position: absolute;border-left: 1px solid gray;box-sizing: border-box;top: 0;bottom: 0;left: 50%;z-index: 0;}#sk-container-id-11 div.sk-serial {display: flex;flex-direction: column;align-items: center;background-color: white;padding-right: 0.2em;padding-left: 0.2em;position: relative;}#sk-container-id-11 div.sk-item {position: relative;z-index: 1;}#sk-container-id-11 div.sk-parallel {display: flex;align-items: stretch;justify-content: center;background-color: white;position: relative;}#sk-container-id-11 div.sk-item::before, #sk-container-id-11 div.sk-parallel-item::before {content: \"\";position: absolute;border-left: 1px solid gray;box-sizing: border-box;top: 0;bottom: 0;left: 50%;z-index: -1;}#sk-container-id-11 div.sk-parallel-item {display: flex;flex-direction: column;z-index: 1;position: relative;background-color: white;}#sk-container-id-11 div.sk-parallel-item:first-child::after {align-self: flex-end;width: 50%;}#sk-container-id-11 div.sk-parallel-item:last-child::after {align-self: flex-start;width: 50%;}#sk-container-id-11 div.sk-parallel-item:only-child::after {width: 0;}#sk-container-id-11 div.sk-dashed-wrapped {border: 1px dashed gray;margin: 0 0.4em 0.5em 0.4em;box-sizing: border-box;padding-bottom: 0.4em;background-color: white;}#sk-container-id-11 div.sk-label label {font-family: monospace;font-weight: bold;display: inline-block;line-height: 1.2em;}#sk-container-id-11 div.sk-label-container {text-align: center;}#sk-container-id-11 div.sk-container {/* jupyter's `normalize.less` sets `[hidden] { display: none; }` but bootstrap.min.css set `[hidden] { display: none !important; }` so we also need the `!important` here to be able to override the default hidden behavior on the sphinx rendered scikit-learn.org. See: https://github.com/scikit-learn/scikit-learn/issues/21755 */display: inline-block !important;position: relative;}#sk-container-id-11 div.sk-text-repr-fallback {display: none;}</style><div id=\"sk-container-id-11\" class=\"sk-top-container\"><div class=\"sk-text-repr-fallback\"><pre>GridSearchCV(cv=5, estimator=DecisionTreeClassifier(),\n",
       "             param_grid={&#x27;max_depth&#x27;: [10, 12, 15, 17, 20],\n",
       "                         &#x27;max_features&#x27;: [3, 4, 5, 7, 10, 15, 17, 20, 23, 26,\n",
       "                                          30],\n",
       "                         &#x27;min_samples_leaf&#x27;: [10, 15, 18, 20, 25, 28, 30]},\n",
       "             scoring=&#x27;roc_auc&#x27;)</pre><b>In a Jupyter environment, please rerun this cell to show the HTML representation or trust the notebook. <br />On GitHub, the HTML representation is unable to render, please try loading this page with nbviewer.org.</b></div><div class=\"sk-container\" hidden><div class=\"sk-item sk-dashed-wrapped\"><div class=\"sk-label-container\"><div class=\"sk-label sk-toggleable\"><input class=\"sk-toggleable__control sk-hidden--visually\" id=\"sk-estimator-id-21\" type=\"checkbox\" ><label for=\"sk-estimator-id-21\" class=\"sk-toggleable__label sk-toggleable__label-arrow\">GridSearchCV</label><div class=\"sk-toggleable__content\"><pre>GridSearchCV(cv=5, estimator=DecisionTreeClassifier(),\n",
       "             param_grid={&#x27;max_depth&#x27;: [10, 12, 15, 17, 20],\n",
       "                         &#x27;max_features&#x27;: [3, 4, 5, 7, 10, 15, 17, 20, 23, 26,\n",
       "                                          30],\n",
       "                         &#x27;min_samples_leaf&#x27;: [10, 15, 18, 20, 25, 28, 30]},\n",
       "             scoring=&#x27;roc_auc&#x27;)</pre></div></div></div><div class=\"sk-parallel\"><div class=\"sk-parallel-item\"><div class=\"sk-item\"><div class=\"sk-label-container\"><div class=\"sk-label sk-toggleable\"><input class=\"sk-toggleable__control sk-hidden--visually\" id=\"sk-estimator-id-22\" type=\"checkbox\" ><label for=\"sk-estimator-id-22\" class=\"sk-toggleable__label sk-toggleable__label-arrow\">estimator: DecisionTreeClassifier</label><div class=\"sk-toggleable__content\"><pre>DecisionTreeClassifier()</pre></div></div></div><div class=\"sk-serial\"><div class=\"sk-item\"><div class=\"sk-estimator sk-toggleable\"><input class=\"sk-toggleable__control sk-hidden--visually\" id=\"sk-estimator-id-23\" type=\"checkbox\" ><label for=\"sk-estimator-id-23\" class=\"sk-toggleable__label sk-toggleable__label-arrow\">DecisionTreeClassifier</label><div class=\"sk-toggleable__content\"><pre>DecisionTreeClassifier()</pre></div></div></div></div></div></div></div></div></div></div>"
      ],
      "text/plain": [
       "GridSearchCV(cv=5, estimator=DecisionTreeClassifier(),\n",
       "             param_grid={'max_depth': [10, 12, 15, 17, 20],\n",
       "                         'max_features': [3, 4, 5, 7, 10, 15, 17, 20, 23, 26,\n",
       "                                          30],\n",
       "                         'min_samples_leaf': [10, 15, 18, 20, 25, 28, 30]},\n",
       "             scoring='roc_auc')"
      ]
     },
     "execution_count": 50,
     "metadata": {},
     "output_type": "execute_result"
    }
   ],
   "source": [
    "tree_params = {'max_features': [3,4,5,7,10,15,17,20,23,26,30], 'min_samples_leaf': [10,15,18,20,25,28,30], 'max_depth': [10,12,15,17,20]}\n",
    "tree_grid = GridSearchCV(DecisionTreeClassifier(), parameters, cv = 5, scoring='roc_auc')\n",
    "\n",
    "tree_grid.fit(X_train, Y_train)"
   ]
  },
  {
   "cell_type": "code",
   "execution_count": 39,
   "id": "7bf9ffcf",
   "metadata": {},
   "outputs": [
    {
     "data": {
      "text/plain": [
       "{'max_depth': 10, 'max_features': 20, 'min_samples_leaf': 28}"
      ]
     },
     "execution_count": 39,
     "metadata": {},
     "output_type": "execute_result"
    }
   ],
   "source": [
    "#Pristupamo najboljim parametrima koje je metoda odredila\n",
    "tree_grid.best_params_"
   ]
  },
  {
   "cell_type": "code",
   "execution_count": 51,
   "id": "ea9cc4c4",
   "metadata": {},
   "outputs": [
    {
     "data": {
      "text/html": [
       "<style>#sk-container-id-12 {color: black;background-color: white;}#sk-container-id-12 pre{padding: 0;}#sk-container-id-12 div.sk-toggleable {background-color: white;}#sk-container-id-12 label.sk-toggleable__label {cursor: pointer;display: block;width: 100%;margin-bottom: 0;padding: 0.3em;box-sizing: border-box;text-align: center;}#sk-container-id-12 label.sk-toggleable__label-arrow:before {content: \"▸\";float: left;margin-right: 0.25em;color: #696969;}#sk-container-id-12 label.sk-toggleable__label-arrow:hover:before {color: black;}#sk-container-id-12 div.sk-estimator:hover label.sk-toggleable__label-arrow:before {color: black;}#sk-container-id-12 div.sk-toggleable__content {max-height: 0;max-width: 0;overflow: hidden;text-align: left;background-color: #f0f8ff;}#sk-container-id-12 div.sk-toggleable__content pre {margin: 0.2em;color: black;border-radius: 0.25em;background-color: #f0f8ff;}#sk-container-id-12 input.sk-toggleable__control:checked~div.sk-toggleable__content {max-height: 200px;max-width: 100%;overflow: auto;}#sk-container-id-12 input.sk-toggleable__control:checked~label.sk-toggleable__label-arrow:before {content: \"▾\";}#sk-container-id-12 div.sk-estimator input.sk-toggleable__control:checked~label.sk-toggleable__label {background-color: #d4ebff;}#sk-container-id-12 div.sk-label input.sk-toggleable__control:checked~label.sk-toggleable__label {background-color: #d4ebff;}#sk-container-id-12 input.sk-hidden--visually {border: 0;clip: rect(1px 1px 1px 1px);clip: rect(1px, 1px, 1px, 1px);height: 1px;margin: -1px;overflow: hidden;padding: 0;position: absolute;width: 1px;}#sk-container-id-12 div.sk-estimator {font-family: monospace;background-color: #f0f8ff;border: 1px dotted black;border-radius: 0.25em;box-sizing: border-box;margin-bottom: 0.5em;}#sk-container-id-12 div.sk-estimator:hover {background-color: #d4ebff;}#sk-container-id-12 div.sk-parallel-item::after {content: \"\";width: 100%;border-bottom: 1px solid gray;flex-grow: 1;}#sk-container-id-12 div.sk-label:hover label.sk-toggleable__label {background-color: #d4ebff;}#sk-container-id-12 div.sk-serial::before {content: \"\";position: absolute;border-left: 1px solid gray;box-sizing: border-box;top: 0;bottom: 0;left: 50%;z-index: 0;}#sk-container-id-12 div.sk-serial {display: flex;flex-direction: column;align-items: center;background-color: white;padding-right: 0.2em;padding-left: 0.2em;position: relative;}#sk-container-id-12 div.sk-item {position: relative;z-index: 1;}#sk-container-id-12 div.sk-parallel {display: flex;align-items: stretch;justify-content: center;background-color: white;position: relative;}#sk-container-id-12 div.sk-item::before, #sk-container-id-12 div.sk-parallel-item::before {content: \"\";position: absolute;border-left: 1px solid gray;box-sizing: border-box;top: 0;bottom: 0;left: 50%;z-index: -1;}#sk-container-id-12 div.sk-parallel-item {display: flex;flex-direction: column;z-index: 1;position: relative;background-color: white;}#sk-container-id-12 div.sk-parallel-item:first-child::after {align-self: flex-end;width: 50%;}#sk-container-id-12 div.sk-parallel-item:last-child::after {align-self: flex-start;width: 50%;}#sk-container-id-12 div.sk-parallel-item:only-child::after {width: 0;}#sk-container-id-12 div.sk-dashed-wrapped {border: 1px dashed gray;margin: 0 0.4em 0.5em 0.4em;box-sizing: border-box;padding-bottom: 0.4em;background-color: white;}#sk-container-id-12 div.sk-label label {font-family: monospace;font-weight: bold;display: inline-block;line-height: 1.2em;}#sk-container-id-12 div.sk-label-container {text-align: center;}#sk-container-id-12 div.sk-container {/* jupyter's `normalize.less` sets `[hidden] { display: none; }` but bootstrap.min.css set `[hidden] { display: none !important; }` so we also need the `!important` here to be able to override the default hidden behavior on the sphinx rendered scikit-learn.org. See: https://github.com/scikit-learn/scikit-learn/issues/21755 */display: inline-block !important;position: relative;}#sk-container-id-12 div.sk-text-repr-fallback {display: none;}</style><div id=\"sk-container-id-12\" class=\"sk-top-container\"><div class=\"sk-text-repr-fallback\"><pre>DecisionTreeClassifier(max_depth=12, max_features=5, min_samples_leaf=25)</pre><b>In a Jupyter environment, please rerun this cell to show the HTML representation or trust the notebook. <br />On GitHub, the HTML representation is unable to render, please try loading this page with nbviewer.org.</b></div><div class=\"sk-container\" hidden><div class=\"sk-item\"><div class=\"sk-estimator sk-toggleable\"><input class=\"sk-toggleable__control sk-hidden--visually\" id=\"sk-estimator-id-24\" type=\"checkbox\" checked><label for=\"sk-estimator-id-24\" class=\"sk-toggleable__label sk-toggleable__label-arrow\">DecisionTreeClassifier</label><div class=\"sk-toggleable__content\"><pre>DecisionTreeClassifier(max_depth=12, max_features=5, min_samples_leaf=25)</pre></div></div></div></div></div>"
      ],
      "text/plain": [
       "DecisionTreeClassifier(max_depth=12, max_features=5, min_samples_leaf=25)"
      ]
     },
     "execution_count": 51,
     "metadata": {},
     "output_type": "execute_result"
    }
   ],
   "source": [
    "#Sada pomocu dobijenih parametara pravimo novi model stabla odlucivanja\n",
    "#Pomocu best_estimator, koji predstavlja jednu instancu naseg modela,\n",
    "#u ovom slucaju drvo odlucivanja, napravicemo model sa najoptimalnijim parametrima koje smo dobili pomocu gridSearcha\n",
    "tree1 = tree_grid.best_estimator_\n",
    "tree1.fit(X_train, Y_train)"
   ]
  },
  {
   "cell_type": "code",
   "execution_count": 52,
   "id": "60abacf2",
   "metadata": {},
   "outputs": [],
   "source": [
    "from sklearn.model_selection import cross_val_score"
   ]
  },
  {
   "cell_type": "code",
   "execution_count": 53,
   "id": "92abeb30",
   "metadata": {},
   "outputs": [
    {
     "data": {
      "text/plain": [
       "0.5987646193261769"
      ]
     },
     "execution_count": 53,
     "metadata": {},
     "output_type": "execute_result"
    }
   ],
   "source": [
    "#koristimo 10tostruku kors validaciju za proveru koliko je model dobar\n",
    "# kada prodjemo kobinaciju 10 foldova nad x i y train podacimam izracunacemo srednju gresku koja je napravljena\n",
    "#kros validacijom dobijamo prosecnu vrednost dobijanog auc parametra kroz deset iteracija\n",
    "cross_val_score(tree1 ,X_train, Y_train, cv = 10, scoring=\"roc_auc\").mean()"
   ]
  },
  {
   "cell_type": "code",
   "execution_count": 27,
   "id": "2113ac8d",
   "metadata": {},
   "outputs": [],
   "source": [
    "# Kada smo pravile model sa default parametrima prosecna vrednost AUC koju dobijemo kroz 10 iteracija kros validacije \n",
    "#je iznosila 0.53127953563501, a koriscenjem optimalnih parametra AUC nam se povecao na 0.5922448029073967"
   ]
  },
  {
   "cell_type": "code",
   "execution_count": 54,
   "id": "b6eeaee7",
   "metadata": {},
   "outputs": [
    {
     "data": {
      "text/plain": [
       "array([0, 0, 0, ..., 0, 0, 0], dtype=int64)"
      ]
     },
     "execution_count": 54,
     "metadata": {},
     "output_type": "execute_result"
    }
   ],
   "source": [
    "#pozivamo predikcije nad test podacima, koji predvidja koja observacija pripada kojoj klasi, 0 ili 1 \n",
    "Y_pred_tree = tree1.predict(X_test)\n",
    "Y_pred_tree"
   ]
  },
  {
   "cell_type": "code",
   "execution_count": 55,
   "id": "38c40ba1",
   "metadata": {},
   "outputs": [
    {
     "data": {
      "text/plain": [
       "array([[1788,    0],\n",
       "       [ 252,    0]], dtype=int64)"
      ]
     },
     "execution_count": 55,
     "metadata": {},
     "output_type": "execute_result"
    }
   ],
   "source": [
    "confusion_matrix(Y_test, Y_pred_tree)\n",
    "#TN [0,0]\n",
    "#FN [1,0]\n",
    "#TP [1,1]\n",
    "#FP[0,1]\n",
    "\n",
    "#true/ predicted\n",
    "#NO     NO      YES\n",
    "       #TN      FP\n",
    "#YES   FN      TP\n",
    "\n",
    "#Matrica konfuzije za prvi model\n",
    "#array([[1503,  285],\n",
    "      # [ 206,   46]]"
   ]
  },
  {
   "cell_type": "code",
   "execution_count": 30,
   "id": "503f5658",
   "metadata": {},
   "outputs": [
    {
     "name": "stdout",
     "output_type": "stream",
     "text": [
      "Accuracy : 0.8764705882352941\n",
      "Precision : 0.0\n",
      "Recall : 0.0\n",
      "F1 : 0.0\n"
     ]
    },
    {
     "name": "stderr",
     "output_type": "stream",
     "text": [
      "C:\\Users\\zelja\\AppData\\Roaming\\Python\\Python39\\site-packages\\sklearn\\metrics\\_classification.py:1327: UndefinedMetricWarning: Precision is ill-defined and being set to 0.0 due to no predicted samples. Use `zero_division` parameter to control this behavior.\n",
      "  _warn_prf(average, modifier, msg_start, len(result))\n"
     ]
    }
   ],
   "source": [
    "evaluate_metrics(Y_test, Y_pred_tree)\n",
    "#Model ima veliku tacnost jer je pogodio sve TN klase, kojih ima znacajno vise u modelu\n",
    "#Posto nije ni jednu observaciju proglasio za TP, kao ni za FN, precision, recall i f1 metrike su 0\n",
    "\n",
    "#Accuracy : 0.759313725490196\n",
    "#Precision : 0.13897280966767372\n",
    "#Recall : 0.18253968253968253\n",
    "#F1 : 0.15780445969125217"
   ]
  },
  {
   "cell_type": "code",
   "execution_count": 45,
   "id": "25000ad4",
   "metadata": {},
   "outputs": [
    {
     "data": {
      "text/html": [
       "<style>#sk-container-id-9 {color: black;background-color: white;}#sk-container-id-9 pre{padding: 0;}#sk-container-id-9 div.sk-toggleable {background-color: white;}#sk-container-id-9 label.sk-toggleable__label {cursor: pointer;display: block;width: 100%;margin-bottom: 0;padding: 0.3em;box-sizing: border-box;text-align: center;}#sk-container-id-9 label.sk-toggleable__label-arrow:before {content: \"▸\";float: left;margin-right: 0.25em;color: #696969;}#sk-container-id-9 label.sk-toggleable__label-arrow:hover:before {color: black;}#sk-container-id-9 div.sk-estimator:hover label.sk-toggleable__label-arrow:before {color: black;}#sk-container-id-9 div.sk-toggleable__content {max-height: 0;max-width: 0;overflow: hidden;text-align: left;background-color: #f0f8ff;}#sk-container-id-9 div.sk-toggleable__content pre {margin: 0.2em;color: black;border-radius: 0.25em;background-color: #f0f8ff;}#sk-container-id-9 input.sk-toggleable__control:checked~div.sk-toggleable__content {max-height: 200px;max-width: 100%;overflow: auto;}#sk-container-id-9 input.sk-toggleable__control:checked~label.sk-toggleable__label-arrow:before {content: \"▾\";}#sk-container-id-9 div.sk-estimator input.sk-toggleable__control:checked~label.sk-toggleable__label {background-color: #d4ebff;}#sk-container-id-9 div.sk-label input.sk-toggleable__control:checked~label.sk-toggleable__label {background-color: #d4ebff;}#sk-container-id-9 input.sk-hidden--visually {border: 0;clip: rect(1px 1px 1px 1px);clip: rect(1px, 1px, 1px, 1px);height: 1px;margin: -1px;overflow: hidden;padding: 0;position: absolute;width: 1px;}#sk-container-id-9 div.sk-estimator {font-family: monospace;background-color: #f0f8ff;border: 1px dotted black;border-radius: 0.25em;box-sizing: border-box;margin-bottom: 0.5em;}#sk-container-id-9 div.sk-estimator:hover {background-color: #d4ebff;}#sk-container-id-9 div.sk-parallel-item::after {content: \"\";width: 100%;border-bottom: 1px solid gray;flex-grow: 1;}#sk-container-id-9 div.sk-label:hover label.sk-toggleable__label {background-color: #d4ebff;}#sk-container-id-9 div.sk-serial::before {content: \"\";position: absolute;border-left: 1px solid gray;box-sizing: border-box;top: 0;bottom: 0;left: 50%;z-index: 0;}#sk-container-id-9 div.sk-serial {display: flex;flex-direction: column;align-items: center;background-color: white;padding-right: 0.2em;padding-left: 0.2em;position: relative;}#sk-container-id-9 div.sk-item {position: relative;z-index: 1;}#sk-container-id-9 div.sk-parallel {display: flex;align-items: stretch;justify-content: center;background-color: white;position: relative;}#sk-container-id-9 div.sk-item::before, #sk-container-id-9 div.sk-parallel-item::before {content: \"\";position: absolute;border-left: 1px solid gray;box-sizing: border-box;top: 0;bottom: 0;left: 50%;z-index: -1;}#sk-container-id-9 div.sk-parallel-item {display: flex;flex-direction: column;z-index: 1;position: relative;background-color: white;}#sk-container-id-9 div.sk-parallel-item:first-child::after {align-self: flex-end;width: 50%;}#sk-container-id-9 div.sk-parallel-item:last-child::after {align-self: flex-start;width: 50%;}#sk-container-id-9 div.sk-parallel-item:only-child::after {width: 0;}#sk-container-id-9 div.sk-dashed-wrapped {border: 1px dashed gray;margin: 0 0.4em 0.5em 0.4em;box-sizing: border-box;padding-bottom: 0.4em;background-color: white;}#sk-container-id-9 div.sk-label label {font-family: monospace;font-weight: bold;display: inline-block;line-height: 1.2em;}#sk-container-id-9 div.sk-label-container {text-align: center;}#sk-container-id-9 div.sk-container {/* jupyter's `normalize.less` sets `[hidden] { display: none; }` but bootstrap.min.css set `[hidden] { display: none !important; }` so we also need the `!important` here to be able to override the default hidden behavior on the sphinx rendered scikit-learn.org. See: https://github.com/scikit-learn/scikit-learn/issues/21755 */display: inline-block !important;position: relative;}#sk-container-id-9 div.sk-text-repr-fallback {display: none;}</style><div id=\"sk-container-id-9\" class=\"sk-top-container\"><div class=\"sk-text-repr-fallback\"><pre>GridSearchCV(cv=5, estimator=KNeighborsClassifier(),\n",
       "             param_grid={&#x27;metric&#x27;: [&#x27;euclidean&#x27;, &#x27;manhattan&#x27;],\n",
       "                         &#x27;n_neighbors&#x27;: [3, 5, 7, 9, 11, 13, 15],\n",
       "                         &#x27;weights&#x27;: [&#x27;uniform&#x27;, &#x27;distance&#x27;]},\n",
       "             scoring=&#x27;roc_auc&#x27;)</pre><b>In a Jupyter environment, please rerun this cell to show the HTML representation or trust the notebook. <br />On GitHub, the HTML representation is unable to render, please try loading this page with nbviewer.org.</b></div><div class=\"sk-container\" hidden><div class=\"sk-item sk-dashed-wrapped\"><div class=\"sk-label-container\"><div class=\"sk-label sk-toggleable\"><input class=\"sk-toggleable__control sk-hidden--visually\" id=\"sk-estimator-id-17\" type=\"checkbox\" ><label for=\"sk-estimator-id-17\" class=\"sk-toggleable__label sk-toggleable__label-arrow\">GridSearchCV</label><div class=\"sk-toggleable__content\"><pre>GridSearchCV(cv=5, estimator=KNeighborsClassifier(),\n",
       "             param_grid={&#x27;metric&#x27;: [&#x27;euclidean&#x27;, &#x27;manhattan&#x27;],\n",
       "                         &#x27;n_neighbors&#x27;: [3, 5, 7, 9, 11, 13, 15],\n",
       "                         &#x27;weights&#x27;: [&#x27;uniform&#x27;, &#x27;distance&#x27;]},\n",
       "             scoring=&#x27;roc_auc&#x27;)</pre></div></div></div><div class=\"sk-parallel\"><div class=\"sk-parallel-item\"><div class=\"sk-item\"><div class=\"sk-label-container\"><div class=\"sk-label sk-toggleable\"><input class=\"sk-toggleable__control sk-hidden--visually\" id=\"sk-estimator-id-18\" type=\"checkbox\" ><label for=\"sk-estimator-id-18\" class=\"sk-toggleable__label sk-toggleable__label-arrow\">estimator: KNeighborsClassifier</label><div class=\"sk-toggleable__content\"><pre>KNeighborsClassifier()</pre></div></div></div><div class=\"sk-serial\"><div class=\"sk-item\"><div class=\"sk-estimator sk-toggleable\"><input class=\"sk-toggleable__control sk-hidden--visually\" id=\"sk-estimator-id-19\" type=\"checkbox\" ><label for=\"sk-estimator-id-19\" class=\"sk-toggleable__label sk-toggleable__label-arrow\">KNeighborsClassifier</label><div class=\"sk-toggleable__content\"><pre>KNeighborsClassifier()</pre></div></div></div></div></div></div></div></div></div></div>"
      ],
      "text/plain": [
       "GridSearchCV(cv=5, estimator=KNeighborsClassifier(),\n",
       "             param_grid={'metric': ['euclidean', 'manhattan'],\n",
       "                         'n_neighbors': [3, 5, 7, 9, 11, 13, 15],\n",
       "                         'weights': ['uniform', 'distance']},\n",
       "             scoring='roc_auc')"
      ]
     },
     "execution_count": 45,
     "metadata": {},
     "output_type": "execute_result"
    }
   ],
   "source": [
    "#Ispitujemo razlicite vrednosti za hiperparametre knn modela\n",
    "#n_neihbors, broj suseda na osnovu kojih ce zakljucivati o klasi\n",
    "# weights, uniform- sve tacke svakog suseda su jednake tezine, distance- blizi susedi se otezavaju i imaju veci uticaj, a dalji susedi imaju manji uticaj na donosenje odluke\n",
    "# metrics- koje rastojanje koristiti, Euklidsko ili Menhetn\n",
    "#Menhetn rastojanje se racuna |x1-x2|+ |y1-y2| kad imamo dve osobine\n",
    "\n",
    "from sklearn.neighbors import KNeighborsClassifier\n",
    "from sklearn.model_selection import GridSearchCV\n",
    "\n",
    "knn_params = {'n_neighbors' : [3,5,7,9,11,13,15], 'weights' : ['uniform', 'distance'],  'metric' : ['euclidean', 'manhattan']}\n",
    "knn_grid = GridSearchCV(KNeighborsClassifier(), knn_params, cv = 5, scoring=\"roc_auc\")\n",
    "knn_grid.fit(X_train, Y_train)"
   ]
  },
  {
   "cell_type": "code",
   "execution_count": 46,
   "id": "e7116e39",
   "metadata": {},
   "outputs": [
    {
     "data": {
      "text/plain": [
       "{'metric': 'manhattan', 'n_neighbors': 15, 'weights': 'distance'}"
      ]
     },
     "execution_count": 46,
     "metadata": {},
     "output_type": "execute_result"
    }
   ],
   "source": [
    "knn_grid.best_params_"
   ]
  },
  {
   "cell_type": "code",
   "execution_count": 48,
   "id": "6b06076c",
   "metadata": {},
   "outputs": [
    {
     "data": {
      "text/html": [
       "<style>#sk-container-id-10 {color: black;background-color: white;}#sk-container-id-10 pre{padding: 0;}#sk-container-id-10 div.sk-toggleable {background-color: white;}#sk-container-id-10 label.sk-toggleable__label {cursor: pointer;display: block;width: 100%;margin-bottom: 0;padding: 0.3em;box-sizing: border-box;text-align: center;}#sk-container-id-10 label.sk-toggleable__label-arrow:before {content: \"▸\";float: left;margin-right: 0.25em;color: #696969;}#sk-container-id-10 label.sk-toggleable__label-arrow:hover:before {color: black;}#sk-container-id-10 div.sk-estimator:hover label.sk-toggleable__label-arrow:before {color: black;}#sk-container-id-10 div.sk-toggleable__content {max-height: 0;max-width: 0;overflow: hidden;text-align: left;background-color: #f0f8ff;}#sk-container-id-10 div.sk-toggleable__content pre {margin: 0.2em;color: black;border-radius: 0.25em;background-color: #f0f8ff;}#sk-container-id-10 input.sk-toggleable__control:checked~div.sk-toggleable__content {max-height: 200px;max-width: 100%;overflow: auto;}#sk-container-id-10 input.sk-toggleable__control:checked~label.sk-toggleable__label-arrow:before {content: \"▾\";}#sk-container-id-10 div.sk-estimator input.sk-toggleable__control:checked~label.sk-toggleable__label {background-color: #d4ebff;}#sk-container-id-10 div.sk-label input.sk-toggleable__control:checked~label.sk-toggleable__label {background-color: #d4ebff;}#sk-container-id-10 input.sk-hidden--visually {border: 0;clip: rect(1px 1px 1px 1px);clip: rect(1px, 1px, 1px, 1px);height: 1px;margin: -1px;overflow: hidden;padding: 0;position: absolute;width: 1px;}#sk-container-id-10 div.sk-estimator {font-family: monospace;background-color: #f0f8ff;border: 1px dotted black;border-radius: 0.25em;box-sizing: border-box;margin-bottom: 0.5em;}#sk-container-id-10 div.sk-estimator:hover {background-color: #d4ebff;}#sk-container-id-10 div.sk-parallel-item::after {content: \"\";width: 100%;border-bottom: 1px solid gray;flex-grow: 1;}#sk-container-id-10 div.sk-label:hover label.sk-toggleable__label {background-color: #d4ebff;}#sk-container-id-10 div.sk-serial::before {content: \"\";position: absolute;border-left: 1px solid gray;box-sizing: border-box;top: 0;bottom: 0;left: 50%;z-index: 0;}#sk-container-id-10 div.sk-serial {display: flex;flex-direction: column;align-items: center;background-color: white;padding-right: 0.2em;padding-left: 0.2em;position: relative;}#sk-container-id-10 div.sk-item {position: relative;z-index: 1;}#sk-container-id-10 div.sk-parallel {display: flex;align-items: stretch;justify-content: center;background-color: white;position: relative;}#sk-container-id-10 div.sk-item::before, #sk-container-id-10 div.sk-parallel-item::before {content: \"\";position: absolute;border-left: 1px solid gray;box-sizing: border-box;top: 0;bottom: 0;left: 50%;z-index: -1;}#sk-container-id-10 div.sk-parallel-item {display: flex;flex-direction: column;z-index: 1;position: relative;background-color: white;}#sk-container-id-10 div.sk-parallel-item:first-child::after {align-self: flex-end;width: 50%;}#sk-container-id-10 div.sk-parallel-item:last-child::after {align-self: flex-start;width: 50%;}#sk-container-id-10 div.sk-parallel-item:only-child::after {width: 0;}#sk-container-id-10 div.sk-dashed-wrapped {border: 1px dashed gray;margin: 0 0.4em 0.5em 0.4em;box-sizing: border-box;padding-bottom: 0.4em;background-color: white;}#sk-container-id-10 div.sk-label label {font-family: monospace;font-weight: bold;display: inline-block;line-height: 1.2em;}#sk-container-id-10 div.sk-label-container {text-align: center;}#sk-container-id-10 div.sk-container {/* jupyter's `normalize.less` sets `[hidden] { display: none; }` but bootstrap.min.css set `[hidden] { display: none !important; }` so we also need the `!important` here to be able to override the default hidden behavior on the sphinx rendered scikit-learn.org. See: https://github.com/scikit-learn/scikit-learn/issues/21755 */display: inline-block !important;position: relative;}#sk-container-id-10 div.sk-text-repr-fallback {display: none;}</style><div id=\"sk-container-id-10\" class=\"sk-top-container\"><div class=\"sk-text-repr-fallback\"><pre>KNeighborsClassifier(metric=&#x27;manhattan&#x27;, n_neighbors=15, weights=&#x27;distance&#x27;)</pre><b>In a Jupyter environment, please rerun this cell to show the HTML representation or trust the notebook. <br />On GitHub, the HTML representation is unable to render, please try loading this page with nbviewer.org.</b></div><div class=\"sk-container\" hidden><div class=\"sk-item\"><div class=\"sk-estimator sk-toggleable\"><input class=\"sk-toggleable__control sk-hidden--visually\" id=\"sk-estimator-id-20\" type=\"checkbox\" checked><label for=\"sk-estimator-id-20\" class=\"sk-toggleable__label sk-toggleable__label-arrow\">KNeighborsClassifier</label><div class=\"sk-toggleable__content\"><pre>KNeighborsClassifier(metric=&#x27;manhattan&#x27;, n_neighbors=15, weights=&#x27;distance&#x27;)</pre></div></div></div></div></div>"
      ],
      "text/plain": [
       "KNeighborsClassifier(metric='manhattan', n_neighbors=15, weights='distance')"
      ]
     },
     "execution_count": 48,
     "metadata": {},
     "output_type": "execute_result"
    }
   ],
   "source": [
    "#Sada pomocu dobijenih parametara pravimo novi model knn klasifikatora\n",
    "knn1 = knn_grid.best_estimator_\n",
    "knn1.fit(X_train, Y_train)"
   ]
  },
  {
   "cell_type": "code",
   "execution_count": 56,
   "id": "90d4290a",
   "metadata": {},
   "outputs": [
    {
     "data": {
      "text/plain": [
       "0.6072556955802424"
      ]
     },
     "execution_count": 56,
     "metadata": {},
     "output_type": "execute_result"
    }
   ],
   "source": [
    "cross_val_score(knn1 ,X_train, Y_train, cv = 10, scoring=\"roc_auc\").mean()"
   ]
  },
  {
   "cell_type": "code",
   "execution_count": null,
   "id": "bd5a4e66",
   "metadata": {},
   "outputs": [],
   "source": [
    "# Kada smo pravile model sa default parametrima prosecna vrednost AUC koju dobijemo kroz 10 iteracija kros validacije \n",
    "#je iznosila 0.551016590138326, a koriscenjem optimalnih parametra AUC nam se povecao na 0.6072556955802424"
   ]
  },
  {
   "cell_type": "code",
   "execution_count": 57,
   "id": "bede5bcf",
   "metadata": {},
   "outputs": [
    {
     "data": {
      "text/plain": [
       "array([0, 0, 0, ..., 0, 0, 0], dtype=int64)"
      ]
     },
     "execution_count": 57,
     "metadata": {},
     "output_type": "execute_result"
    }
   ],
   "source": [
    "Y_pred_knn = knn1.predict(X_test)\n",
    "Y_pred_knn"
   ]
  },
  {
   "cell_type": "code",
   "execution_count": 58,
   "id": "b9a9bed8",
   "metadata": {},
   "outputs": [
    {
     "data": {
      "text/plain": [
       "array([[1781,    7],\n",
       "       [ 249,    3]], dtype=int64)"
      ]
     },
     "execution_count": 58,
     "metadata": {},
     "output_type": "execute_result"
    }
   ],
   "source": [
    "confusion_matrix(Y_test, Y_pred_knn)\n",
    "#MAtrica konfuzije prvog modela, sa default parametrima\n",
    "#[1762,   26],\n",
    "#[ 244,    8]"
   ]
  },
  {
   "cell_type": "code",
   "execution_count": 59,
   "id": "8840ccde",
   "metadata": {},
   "outputs": [
    {
     "name": "stdout",
     "output_type": "stream",
     "text": [
      "Accuracy : 0.8745098039215686\n",
      "Precision : 0.3\n",
      "Recall : 0.011904761904761904\n",
      "F1 : 0.022900763358778622\n"
     ]
    }
   ],
   "source": [
    "evaluate_metrics(Y_test, Y_pred_knn)\n",
    "#Evaluacione metrike prvog modela \n",
    "#Accuracy : 0.759313725490196\n",
    "#Precision : 0.13897280966767372\n",
    "#Recall : 0.18253968253968253\n",
    "#F1 : 0.15780445969125217"
   ]
  },
  {
   "cell_type": "code",
   "execution_count": 63,
   "id": "1ebaea9a",
   "metadata": {},
   "outputs": [],
   "source": [
    "#Kreirajmo VotingClassifier() sa optimalno podesenim parametrima algoritimima stabla odlucivanja i knn klasifikatora\n",
    "#Kreiramo Voting model, a kao ulazne parametre mu prosledjujemo kreirane modele drvo i knn na osnovu kojih on donosi svoje zakljucke\n",
    "from sklearn.ensemble import VotingClassifier"
   ]
  },
  {
   "cell_type": "code",
   "execution_count": 64,
   "id": "aead2d1e",
   "metadata": {},
   "outputs": [
    {
     "data": {
      "text/html": [
       "<style>#sk-container-id-13 {color: black;background-color: white;}#sk-container-id-13 pre{padding: 0;}#sk-container-id-13 div.sk-toggleable {background-color: white;}#sk-container-id-13 label.sk-toggleable__label {cursor: pointer;display: block;width: 100%;margin-bottom: 0;padding: 0.3em;box-sizing: border-box;text-align: center;}#sk-container-id-13 label.sk-toggleable__label-arrow:before {content: \"▸\";float: left;margin-right: 0.25em;color: #696969;}#sk-container-id-13 label.sk-toggleable__label-arrow:hover:before {color: black;}#sk-container-id-13 div.sk-estimator:hover label.sk-toggleable__label-arrow:before {color: black;}#sk-container-id-13 div.sk-toggleable__content {max-height: 0;max-width: 0;overflow: hidden;text-align: left;background-color: #f0f8ff;}#sk-container-id-13 div.sk-toggleable__content pre {margin: 0.2em;color: black;border-radius: 0.25em;background-color: #f0f8ff;}#sk-container-id-13 input.sk-toggleable__control:checked~div.sk-toggleable__content {max-height: 200px;max-width: 100%;overflow: auto;}#sk-container-id-13 input.sk-toggleable__control:checked~label.sk-toggleable__label-arrow:before {content: \"▾\";}#sk-container-id-13 div.sk-estimator input.sk-toggleable__control:checked~label.sk-toggleable__label {background-color: #d4ebff;}#sk-container-id-13 div.sk-label input.sk-toggleable__control:checked~label.sk-toggleable__label {background-color: #d4ebff;}#sk-container-id-13 input.sk-hidden--visually {border: 0;clip: rect(1px 1px 1px 1px);clip: rect(1px, 1px, 1px, 1px);height: 1px;margin: -1px;overflow: hidden;padding: 0;position: absolute;width: 1px;}#sk-container-id-13 div.sk-estimator {font-family: monospace;background-color: #f0f8ff;border: 1px dotted black;border-radius: 0.25em;box-sizing: border-box;margin-bottom: 0.5em;}#sk-container-id-13 div.sk-estimator:hover {background-color: #d4ebff;}#sk-container-id-13 div.sk-parallel-item::after {content: \"\";width: 100%;border-bottom: 1px solid gray;flex-grow: 1;}#sk-container-id-13 div.sk-label:hover label.sk-toggleable__label {background-color: #d4ebff;}#sk-container-id-13 div.sk-serial::before {content: \"\";position: absolute;border-left: 1px solid gray;box-sizing: border-box;top: 0;bottom: 0;left: 50%;z-index: 0;}#sk-container-id-13 div.sk-serial {display: flex;flex-direction: column;align-items: center;background-color: white;padding-right: 0.2em;padding-left: 0.2em;position: relative;}#sk-container-id-13 div.sk-item {position: relative;z-index: 1;}#sk-container-id-13 div.sk-parallel {display: flex;align-items: stretch;justify-content: center;background-color: white;position: relative;}#sk-container-id-13 div.sk-item::before, #sk-container-id-13 div.sk-parallel-item::before {content: \"\";position: absolute;border-left: 1px solid gray;box-sizing: border-box;top: 0;bottom: 0;left: 50%;z-index: -1;}#sk-container-id-13 div.sk-parallel-item {display: flex;flex-direction: column;z-index: 1;position: relative;background-color: white;}#sk-container-id-13 div.sk-parallel-item:first-child::after {align-self: flex-end;width: 50%;}#sk-container-id-13 div.sk-parallel-item:last-child::after {align-self: flex-start;width: 50%;}#sk-container-id-13 div.sk-parallel-item:only-child::after {width: 0;}#sk-container-id-13 div.sk-dashed-wrapped {border: 1px dashed gray;margin: 0 0.4em 0.5em 0.4em;box-sizing: border-box;padding-bottom: 0.4em;background-color: white;}#sk-container-id-13 div.sk-label label {font-family: monospace;font-weight: bold;display: inline-block;line-height: 1.2em;}#sk-container-id-13 div.sk-label-container {text-align: center;}#sk-container-id-13 div.sk-container {/* jupyter's `normalize.less` sets `[hidden] { display: none; }` but bootstrap.min.css set `[hidden] { display: none !important; }` so we also need the `!important` here to be able to override the default hidden behavior on the sphinx rendered scikit-learn.org. See: https://github.com/scikit-learn/scikit-learn/issues/21755 */display: inline-block !important;position: relative;}#sk-container-id-13 div.sk-text-repr-fallback {display: none;}</style><div id=\"sk-container-id-13\" class=\"sk-top-container\"><div class=\"sk-text-repr-fallback\"><pre>VotingClassifier(estimators=[(&#x27;tree&#x27;,\n",
       "                              DecisionTreeClassifier(max_depth=12,\n",
       "                                                     max_features=5,\n",
       "                                                     min_samples_leaf=25)),\n",
       "                             (&#x27;knn&#x27;,\n",
       "                              KNeighborsClassifier(metric=&#x27;manhattan&#x27;,\n",
       "                                                   n_neighbors=15,\n",
       "                                                   weights=&#x27;distance&#x27;))],\n",
       "                 voting=&#x27;soft&#x27;)</pre><b>In a Jupyter environment, please rerun this cell to show the HTML representation or trust the notebook. <br />On GitHub, the HTML representation is unable to render, please try loading this page with nbviewer.org.</b></div><div class=\"sk-container\" hidden><div class=\"sk-item sk-dashed-wrapped\"><div class=\"sk-label-container\"><div class=\"sk-label sk-toggleable\"><input class=\"sk-toggleable__control sk-hidden--visually\" id=\"sk-estimator-id-25\" type=\"checkbox\" ><label for=\"sk-estimator-id-25\" class=\"sk-toggleable__label sk-toggleable__label-arrow\">VotingClassifier</label><div class=\"sk-toggleable__content\"><pre>VotingClassifier(estimators=[(&#x27;tree&#x27;,\n",
       "                              DecisionTreeClassifier(max_depth=12,\n",
       "                                                     max_features=5,\n",
       "                                                     min_samples_leaf=25)),\n",
       "                             (&#x27;knn&#x27;,\n",
       "                              KNeighborsClassifier(metric=&#x27;manhattan&#x27;,\n",
       "                                                   n_neighbors=15,\n",
       "                                                   weights=&#x27;distance&#x27;))],\n",
       "                 voting=&#x27;soft&#x27;)</pre></div></div></div><div class=\"sk-parallel\"><div class=\"sk-parallel-item\"><div class=\"sk-item\"><div class=\"sk-label-container\"><div class=\"sk-label sk-toggleable\"><label>tree</label></div></div><div class=\"sk-serial\"><div class=\"sk-item\"><div class=\"sk-estimator sk-toggleable\"><input class=\"sk-toggleable__control sk-hidden--visually\" id=\"sk-estimator-id-26\" type=\"checkbox\" ><label for=\"sk-estimator-id-26\" class=\"sk-toggleable__label sk-toggleable__label-arrow\">DecisionTreeClassifier</label><div class=\"sk-toggleable__content\"><pre>DecisionTreeClassifier(max_depth=12, max_features=5, min_samples_leaf=25)</pre></div></div></div></div></div></div><div class=\"sk-parallel-item\"><div class=\"sk-item\"><div class=\"sk-label-container\"><div class=\"sk-label sk-toggleable\"><label>knn</label></div></div><div class=\"sk-serial\"><div class=\"sk-item\"><div class=\"sk-estimator sk-toggleable\"><input class=\"sk-toggleable__control sk-hidden--visually\" id=\"sk-estimator-id-27\" type=\"checkbox\" ><label for=\"sk-estimator-id-27\" class=\"sk-toggleable__label sk-toggleable__label-arrow\">KNeighborsClassifier</label><div class=\"sk-toggleable__content\"><pre>KNeighborsClassifier(metric=&#x27;manhattan&#x27;, n_neighbors=15, weights=&#x27;distance&#x27;)</pre></div></div></div></div></div></div></div></div></div></div>"
      ],
      "text/plain": [
       "VotingClassifier(estimators=[('tree',\n",
       "                              DecisionTreeClassifier(max_depth=12,\n",
       "                                                     max_features=5,\n",
       "                                                     min_samples_leaf=25)),\n",
       "                             ('knn',\n",
       "                              KNeighborsClassifier(metric='manhattan',\n",
       "                                                   n_neighbors=15,\n",
       "                                                   weights='distance'))],\n",
       "                 voting='soft')"
      ]
     },
     "execution_count": 64,
     "metadata": {},
     "output_type": "execute_result"
    }
   ],
   "source": [
    "voting_model = VotingClassifier(voting = \"soft\", estimators=[('tree', tree1), ('knn', knn1)])\n",
    "\n",
    "voting_model.fit(X_train, Y_train)"
   ]
  },
  {
   "cell_type": "code",
   "execution_count": 65,
   "id": "a7d6c7f8",
   "metadata": {},
   "outputs": [
    {
     "data": {
      "text/plain": [
       "0.6227119387350981"
      ]
     },
     "execution_count": 65,
     "metadata": {},
     "output_type": "execute_result"
    }
   ],
   "source": [
    "cross_val_score(voting_model, X_train, Y_train, cv=10, scoring='roc_auc').mean()\n",
    "# Kod prvog modela vrednost AUC je iznosila 0.5560882027793113"
   ]
  },
  {
   "cell_type": "code",
   "execution_count": 66,
   "id": "4fe285f8",
   "metadata": {},
   "outputs": [
    {
     "data": {
      "text/plain": [
       "array([[1788,    0],\n",
       "       [ 252,    0]], dtype=int64)"
      ]
     },
     "execution_count": 66,
     "metadata": {},
     "output_type": "execute_result"
    }
   ],
   "source": [
    "Y_pred_voting = voting_model.predict(X_test)\n",
    "confusion_matrix(Y_test, Y_pred_voting)\n",
    "\n",
    "#Matrica konfuzije pocetnog modela\n",
    "#array([[1618,  170],\n",
    "       #[ 221,   31]]"
   ]
  },
  {
   "cell_type": "code",
   "execution_count": 67,
   "id": "bd31ffcc",
   "metadata": {},
   "outputs": [
    {
     "name": "stdout",
     "output_type": "stream",
     "text": [
      "Accuracy : 0.8764705882352941\n",
      "Precision : 0.0\n",
      "Recall : 0.0\n",
      "F1 : 0.0\n"
     ]
    },
    {
     "name": "stderr",
     "output_type": "stream",
     "text": [
      "C:\\Users\\zelja\\AppData\\Roaming\\Python\\Python39\\site-packages\\sklearn\\metrics\\_classification.py:1327: UndefinedMetricWarning: Precision is ill-defined and being set to 0.0 due to no predicted samples. Use `zero_division` parameter to control this behavior.\n",
      "  _warn_prf(average, modifier, msg_start, len(result))\n"
     ]
    }
   ],
   "source": [
    "evaluate_metrics(Y_test, Y_pred_voting)\n",
    "\n",
    "#Accuracy : 0.8083333333333333\n",
    "#Precision : 0.15422885572139303\n",
    "#Recall : 0.12301587301587301\n",
    "#F1 : 0.13686534216335539"
   ]
  },
  {
   "cell_type": "code",
   "execution_count": 68,
   "id": "65ed3f9d",
   "metadata": {},
   "outputs": [
    {
     "data": {
      "text/html": [
       "<style>#sk-container-id-14 {color: black;background-color: white;}#sk-container-id-14 pre{padding: 0;}#sk-container-id-14 div.sk-toggleable {background-color: white;}#sk-container-id-14 label.sk-toggleable__label {cursor: pointer;display: block;width: 100%;margin-bottom: 0;padding: 0.3em;box-sizing: border-box;text-align: center;}#sk-container-id-14 label.sk-toggleable__label-arrow:before {content: \"▸\";float: left;margin-right: 0.25em;color: #696969;}#sk-container-id-14 label.sk-toggleable__label-arrow:hover:before {color: black;}#sk-container-id-14 div.sk-estimator:hover label.sk-toggleable__label-arrow:before {color: black;}#sk-container-id-14 div.sk-toggleable__content {max-height: 0;max-width: 0;overflow: hidden;text-align: left;background-color: #f0f8ff;}#sk-container-id-14 div.sk-toggleable__content pre {margin: 0.2em;color: black;border-radius: 0.25em;background-color: #f0f8ff;}#sk-container-id-14 input.sk-toggleable__control:checked~div.sk-toggleable__content {max-height: 200px;max-width: 100%;overflow: auto;}#sk-container-id-14 input.sk-toggleable__control:checked~label.sk-toggleable__label-arrow:before {content: \"▾\";}#sk-container-id-14 div.sk-estimator input.sk-toggleable__control:checked~label.sk-toggleable__label {background-color: #d4ebff;}#sk-container-id-14 div.sk-label input.sk-toggleable__control:checked~label.sk-toggleable__label {background-color: #d4ebff;}#sk-container-id-14 input.sk-hidden--visually {border: 0;clip: rect(1px 1px 1px 1px);clip: rect(1px, 1px, 1px, 1px);height: 1px;margin: -1px;overflow: hidden;padding: 0;position: absolute;width: 1px;}#sk-container-id-14 div.sk-estimator {font-family: monospace;background-color: #f0f8ff;border: 1px dotted black;border-radius: 0.25em;box-sizing: border-box;margin-bottom: 0.5em;}#sk-container-id-14 div.sk-estimator:hover {background-color: #d4ebff;}#sk-container-id-14 div.sk-parallel-item::after {content: \"\";width: 100%;border-bottom: 1px solid gray;flex-grow: 1;}#sk-container-id-14 div.sk-label:hover label.sk-toggleable__label {background-color: #d4ebff;}#sk-container-id-14 div.sk-serial::before {content: \"\";position: absolute;border-left: 1px solid gray;box-sizing: border-box;top: 0;bottom: 0;left: 50%;z-index: 0;}#sk-container-id-14 div.sk-serial {display: flex;flex-direction: column;align-items: center;background-color: white;padding-right: 0.2em;padding-left: 0.2em;position: relative;}#sk-container-id-14 div.sk-item {position: relative;z-index: 1;}#sk-container-id-14 div.sk-parallel {display: flex;align-items: stretch;justify-content: center;background-color: white;position: relative;}#sk-container-id-14 div.sk-item::before, #sk-container-id-14 div.sk-parallel-item::before {content: \"\";position: absolute;border-left: 1px solid gray;box-sizing: border-box;top: 0;bottom: 0;left: 50%;z-index: -1;}#sk-container-id-14 div.sk-parallel-item {display: flex;flex-direction: column;z-index: 1;position: relative;background-color: white;}#sk-container-id-14 div.sk-parallel-item:first-child::after {align-self: flex-end;width: 50%;}#sk-container-id-14 div.sk-parallel-item:last-child::after {align-self: flex-start;width: 50%;}#sk-container-id-14 div.sk-parallel-item:only-child::after {width: 0;}#sk-container-id-14 div.sk-dashed-wrapped {border: 1px dashed gray;margin: 0 0.4em 0.5em 0.4em;box-sizing: border-box;padding-bottom: 0.4em;background-color: white;}#sk-container-id-14 div.sk-label label {font-family: monospace;font-weight: bold;display: inline-block;line-height: 1.2em;}#sk-container-id-14 div.sk-label-container {text-align: center;}#sk-container-id-14 div.sk-container {/* jupyter's `normalize.less` sets `[hidden] { display: none; }` but bootstrap.min.css set `[hidden] { display: none !important; }` so we also need the `!important` here to be able to override the default hidden behavior on the sphinx rendered scikit-learn.org. See: https://github.com/scikit-learn/scikit-learn/issues/21755 */display: inline-block !important;position: relative;}#sk-container-id-14 div.sk-text-repr-fallback {display: none;}</style><div id=\"sk-container-id-14\" class=\"sk-top-container\"><div class=\"sk-text-repr-fallback\"><pre>BaggingClassifier(base_estimator=KNeighborsClassifier(metric=&#x27;manhattan&#x27;,\n",
       "                                                      n_neighbors=15,\n",
       "                                                      weights=&#x27;distance&#x27;),\n",
       "                  bootstrap=100)</pre><b>In a Jupyter environment, please rerun this cell to show the HTML representation or trust the notebook. <br />On GitHub, the HTML representation is unable to render, please try loading this page with nbviewer.org.</b></div><div class=\"sk-container\" hidden><div class=\"sk-item sk-dashed-wrapped\"><div class=\"sk-label-container\"><div class=\"sk-label sk-toggleable\"><input class=\"sk-toggleable__control sk-hidden--visually\" id=\"sk-estimator-id-28\" type=\"checkbox\" ><label for=\"sk-estimator-id-28\" class=\"sk-toggleable__label sk-toggleable__label-arrow\">BaggingClassifier</label><div class=\"sk-toggleable__content\"><pre>BaggingClassifier(base_estimator=KNeighborsClassifier(metric=&#x27;manhattan&#x27;,\n",
       "                                                      n_neighbors=15,\n",
       "                                                      weights=&#x27;distance&#x27;),\n",
       "                  bootstrap=100)</pre></div></div></div><div class=\"sk-parallel\"><div class=\"sk-parallel-item\"><div class=\"sk-item\"><div class=\"sk-label-container\"><div class=\"sk-label sk-toggleable\"><input class=\"sk-toggleable__control sk-hidden--visually\" id=\"sk-estimator-id-29\" type=\"checkbox\" ><label for=\"sk-estimator-id-29\" class=\"sk-toggleable__label sk-toggleable__label-arrow\">base_estimator: KNeighborsClassifier</label><div class=\"sk-toggleable__content\"><pre>KNeighborsClassifier(metric=&#x27;manhattan&#x27;, n_neighbors=15, weights=&#x27;distance&#x27;)</pre></div></div></div><div class=\"sk-serial\"><div class=\"sk-item\"><div class=\"sk-estimator sk-toggleable\"><input class=\"sk-toggleable__control sk-hidden--visually\" id=\"sk-estimator-id-30\" type=\"checkbox\" ><label for=\"sk-estimator-id-30\" class=\"sk-toggleable__label sk-toggleable__label-arrow\">KNeighborsClassifier</label><div class=\"sk-toggleable__content\"><pre>KNeighborsClassifier(metric=&#x27;manhattan&#x27;, n_neighbors=15, weights=&#x27;distance&#x27;)</pre></div></div></div></div></div></div></div></div></div></div>"
      ],
      "text/plain": [
       "BaggingClassifier(base_estimator=KNeighborsClassifier(metric='manhattan',\n",
       "                                                      n_neighbors=15,\n",
       "                                                      weights='distance'),\n",
       "                  bootstrap=100)"
      ]
     },
     "execution_count": 68,
     "metadata": {},
     "output_type": "execute_result"
    }
   ],
   "source": [
    "#Kreirajmo BaggingClassifier(), gde cemo kao base_estimator staviti optimalno podeseni knn model:\n",
    "from sklearn.ensemble import BaggingClassifier\n",
    "model_bagging = BaggingClassifier(base_estimator = knn1, bootstrap=100)\n",
    "model_bagging.fit(X_train, Y_train)"
   ]
  },
  {
   "cell_type": "code",
   "execution_count": 69,
   "id": "668eb381",
   "metadata": {},
   "outputs": [
    {
     "data": {
      "text/plain": [
       "0.6077317382713819"
      ]
     },
     "execution_count": 69,
     "metadata": {},
     "output_type": "execute_result"
    }
   ],
   "source": [
    "cross_val_score(model_bagging, X_train, Y_train, cv=10, scoring='roc_auc').mean()\n",
    "# Kod prvog modela vrednost AUC je iznosila 0.5642404835737926"
   ]
  },
  {
   "cell_type": "code",
   "execution_count": 70,
   "id": "a5bdd89e",
   "metadata": {},
   "outputs": [
    {
     "data": {
      "text/plain": [
       "array([[1783,    5],\n",
       "       [ 248,    4]], dtype=int64)"
      ]
     },
     "execution_count": 70,
     "metadata": {},
     "output_type": "execute_result"
    }
   ],
   "source": [
    "Y_pred_bagging = model_bagging.predict(X_test)\n",
    "confusion_matrix(Y_test, Y_pred_bagging)\n",
    "\n",
    "#Matrica konfuzije prvog modela \n",
    "#array([[1764,   24],\n",
    " #      [ 238,   14]]"
   ]
  },
  {
   "cell_type": "code",
   "execution_count": 71,
   "id": "1ee4a342",
   "metadata": {},
   "outputs": [
    {
     "name": "stdout",
     "output_type": "stream",
     "text": [
      "Accuracy : 0.8759803921568627\n",
      "Precision : 0.4444444444444444\n",
      "Recall : 0.015873015873015872\n",
      "F1 : 0.03065134099616858\n"
     ]
    }
   ],
   "source": [
    "evaluate_metrics(Y_test, Y_pred_bagging)\n",
    "\n",
    "#Accuracy : 0.8715686274509804\n",
    "#Precision : 0.3684210526315789\n",
    "#Recall : 0.05555555555555555\n",
    "#F1 : 0.09655172413793105"
   ]
  },
  {
   "cell_type": "markdown",
   "id": "fb4636c8",
   "metadata": {},
   "source": [
    "# Selekcija bitnih atributa \n",
    "- Pokusacemo da odredimo K najboljih atributa koje treba izabrati za kreiranje modela, a koji su u zavisnosti sa izlaznom varijablom\n",
    "- Parametar K cemo izabrati po nasoj zelji, pa npr pravicemo nove modele, a na osnovu odabira 23 atributa"
   ]
  },
  {
   "cell_type": "code",
   "execution_count": 73,
   "id": "f16447d0",
   "metadata": {},
   "outputs": [],
   "source": [
    "from sklearn.feature_selection import chi2\n",
    "from sklearn.feature_selection import mutual_info_classif\n",
    "from sklearn.feature_selection import f_classif\n",
    "from sklearn.feature_selection import SelectKBest"
   ]
  },
  {
   "cell_type": "code",
   "execution_count": 76,
   "id": "abc7e869",
   "metadata": {},
   "outputs": [],
   "source": [
    "X = X.replace((np.inf, -np.inf, np.nan), 0).reset_index(drop=True)"
   ]
  },
  {
   "cell_type": "code",
   "execution_count": 78,
   "id": "3e3961e2",
   "metadata": {},
   "outputs": [
    {
     "data": {
      "text/plain": [
       "array([ True,  True, False,  True, False,  True, False,  True,  True,\n",
       "        True,  True, False, False, False,  True, False, False,  True,\n",
       "       False, False, False, False,  True, False, False, False,  True,\n",
       "       False, False, False,  True, False, False, False, False, False,\n",
       "       False, False, False, False, False, False, False, False, False,\n",
       "       False, False,  True, False, False, False, False, False,  True,\n",
       "       False, False, False, False, False, False, False,  True,  True,\n",
       "       False, False, False, False,  True, False,  True, False, False,\n",
       "       False,  True,  True, False, False, False, False, False,  True,\n",
       "        True, False])"
      ]
     },
     "execution_count": 78,
     "metadata": {},
     "output_type": "execute_result"
    }
   ],
   "source": [
    "best_features = SelectKBest(k=23, score_func = f_classif)\n",
    "best_features.fit(X, Y)\n",
    "#Pomocu get support uzimamo indekse kolona koje su True, bitne za nas model\n",
    "best_features.get_support()"
   ]
  },
  {
   "cell_type": "code",
   "execution_count": 79,
   "id": "b4f18aac",
   "metadata": {},
   "outputs": [],
   "source": [
    "#Sada cemo na osnovu True vrednosti napraviti novi dataset sa odabranim atributima\n",
    "#Uzimamo sve redove, i samo odgovarajuce kolone\n",
    "X_new = X.loc[:, best_features.get_support()]"
   ]
  },
  {
   "cell_type": "code",
   "execution_count": 80,
   "id": "33cfa237",
   "metadata": {},
   "outputs": [
    {
     "data": {
      "text/html": [
       "<div>\n",
       "<style scoped>\n",
       "    .dataframe tbody tr th:only-of-type {\n",
       "        vertical-align: middle;\n",
       "    }\n",
       "\n",
       "    .dataframe tbody tr th {\n",
       "        vertical-align: top;\n",
       "    }\n",
       "\n",
       "    .dataframe thead th {\n",
       "        text-align: right;\n",
       "    }\n",
       "</style>\n",
       "<table border=\"1\" class=\"dataframe\">\n",
       "  <thead>\n",
       "    <tr style=\"text-align: right;\">\n",
       "      <th></th>\n",
       "      <th>VehicleAge</th>\n",
       "      <th>VehOdo</th>\n",
       "      <th>VehBCost</th>\n",
       "      <th>WarrantyCost</th>\n",
       "      <th>AcquisitionAuctionRatio</th>\n",
       "      <th>AcquisitionRetailRatio</th>\n",
       "      <th>CurrentAuctionRatio</th>\n",
       "      <th>CurrentRetailRatio</th>\n",
       "      <th>Make_CHEVROLET</th>\n",
       "      <th>Make_FORD</th>\n",
       "      <th>Make_INFINITI</th>\n",
       "      <th>Make_LEXUS</th>\n",
       "      <th>Make_MINI</th>\n",
       "      <th>Color_GOLD</th>\n",
       "      <th>Color_OTHER</th>\n",
       "      <th>WheelType_Alloy</th>\n",
       "      <th>WheelType_Covers</th>\n",
       "      <th>Size_COMPACT</th>\n",
       "      <th>Size_LARGE</th>\n",
       "      <th>Size_MEDIUM SUV</th>\n",
       "      <th>Size_SMALL SUV</th>\n",
       "      <th>TopThreeAmericanName_FORD</th>\n",
       "      <th>TopThreeAmericanName_GM</th>\n",
       "    </tr>\n",
       "  </thead>\n",
       "  <tbody>\n",
       "    <tr>\n",
       "      <th>0</th>\n",
       "      <td>-0.106505</td>\n",
       "      <td>0.157568</td>\n",
       "      <td>-1.065435</td>\n",
       "      <td>0.194455</td>\n",
       "      <td>-2.234466</td>\n",
       "      <td>-0.625095</td>\n",
       "      <td>-1.407804</td>\n",
       "      <td>-0.679097</td>\n",
       "      <td>0.0</td>\n",
       "      <td>0.0</td>\n",
       "      <td>0.0</td>\n",
       "      <td>0.0</td>\n",
       "      <td>0.0</td>\n",
       "      <td>0.0</td>\n",
       "      <td>0.0</td>\n",
       "      <td>0.0</td>\n",
       "      <td>1.0</td>\n",
       "      <td>0.0</td>\n",
       "      <td>0.0</td>\n",
       "      <td>0.0</td>\n",
       "      <td>0.0</td>\n",
       "      <td>0.0</td>\n",
       "      <td>0.0</td>\n",
       "    </tr>\n",
       "    <tr>\n",
       "      <th>1</th>\n",
       "      <td>0.475038</td>\n",
       "      <td>-0.401661</td>\n",
       "      <td>-1.523737</td>\n",
       "      <td>-1.075463</td>\n",
       "      <td>-1.699265</td>\n",
       "      <td>-0.670383</td>\n",
       "      <td>-1.860623</td>\n",
       "      <td>-1.232409</td>\n",
       "      <td>0.0</td>\n",
       "      <td>0.0</td>\n",
       "      <td>0.0</td>\n",
       "      <td>0.0</td>\n",
       "      <td>0.0</td>\n",
       "      <td>0.0</td>\n",
       "      <td>0.0</td>\n",
       "      <td>1.0</td>\n",
       "      <td>0.0</td>\n",
       "      <td>1.0</td>\n",
       "      <td>0.0</td>\n",
       "      <td>0.0</td>\n",
       "      <td>0.0</td>\n",
       "      <td>0.0</td>\n",
       "      <td>0.0</td>\n",
       "    </tr>\n",
       "    <tr>\n",
       "      <th>2</th>\n",
       "      <td>-0.106505</td>\n",
       "      <td>-0.145604</td>\n",
       "      <td>-1.581025</td>\n",
       "      <td>-0.422936</td>\n",
       "      <td>-0.680499</td>\n",
       "      <td>0.648377</td>\n",
       "      <td>-1.182456</td>\n",
       "      <td>-0.080270</td>\n",
       "      <td>0.0</td>\n",
       "      <td>1.0</td>\n",
       "      <td>0.0</td>\n",
       "      <td>0.0</td>\n",
       "      <td>0.0</td>\n",
       "      <td>0.0</td>\n",
       "      <td>0.0</td>\n",
       "      <td>0.0</td>\n",
       "      <td>1.0</td>\n",
       "      <td>1.0</td>\n",
       "      <td>0.0</td>\n",
       "      <td>0.0</td>\n",
       "      <td>0.0</td>\n",
       "      <td>1.0</td>\n",
       "      <td>0.0</td>\n",
       "    </tr>\n",
       "    <tr>\n",
       "      <th>3</th>\n",
       "      <td>0.475038</td>\n",
       "      <td>0.652406</td>\n",
       "      <td>-0.664420</td>\n",
       "      <td>-1.135696</td>\n",
       "      <td>-0.365471</td>\n",
       "      <td>-1.379759</td>\n",
       "      <td>-0.136272</td>\n",
       "      <td>0.122553</td>\n",
       "      <td>0.0</td>\n",
       "      <td>0.0</td>\n",
       "      <td>0.0</td>\n",
       "      <td>0.0</td>\n",
       "      <td>0.0</td>\n",
       "      <td>0.0</td>\n",
       "      <td>0.0</td>\n",
       "      <td>0.0</td>\n",
       "      <td>1.0</td>\n",
       "      <td>0.0</td>\n",
       "      <td>0.0</td>\n",
       "      <td>0.0</td>\n",
       "      <td>0.0</td>\n",
       "      <td>0.0</td>\n",
       "      <td>0.0</td>\n",
       "    </tr>\n",
       "    <tr>\n",
       "      <th>4</th>\n",
       "      <td>0.475038</td>\n",
       "      <td>0.319123</td>\n",
       "      <td>1.168791</td>\n",
       "      <td>-0.590250</td>\n",
       "      <td>-0.350520</td>\n",
       "      <td>-0.373017</td>\n",
       "      <td>-0.241899</td>\n",
       "      <td>0.597293</td>\n",
       "      <td>0.0</td>\n",
       "      <td>0.0</td>\n",
       "      <td>0.0</td>\n",
       "      <td>0.0</td>\n",
       "      <td>0.0</td>\n",
       "      <td>0.0</td>\n",
       "      <td>0.0</td>\n",
       "      <td>1.0</td>\n",
       "      <td>0.0</td>\n",
       "      <td>0.0</td>\n",
       "      <td>0.0</td>\n",
       "      <td>0.0</td>\n",
       "      <td>0.0</td>\n",
       "      <td>0.0</td>\n",
       "      <td>0.0</td>\n",
       "    </tr>\n",
       "    <tr>\n",
       "      <th>5</th>\n",
       "      <td>-0.688048</td>\n",
       "      <td>-2.437894</td>\n",
       "      <td>-0.492556</td>\n",
       "      <td>-1.356551</td>\n",
       "      <td>0.555759</td>\n",
       "      <td>1.206192</td>\n",
       "      <td>0.672741</td>\n",
       "      <td>0.249500</td>\n",
       "      <td>0.0</td>\n",
       "      <td>0.0</td>\n",
       "      <td>0.0</td>\n",
       "      <td>0.0</td>\n",
       "      <td>0.0</td>\n",
       "      <td>1.0</td>\n",
       "      <td>0.0</td>\n",
       "      <td>0.0</td>\n",
       "      <td>1.0</td>\n",
       "      <td>0.0</td>\n",
       "      <td>0.0</td>\n",
       "      <td>0.0</td>\n",
       "      <td>0.0</td>\n",
       "      <td>0.0</td>\n",
       "      <td>0.0</td>\n",
       "    </tr>\n",
       "    <tr>\n",
       "      <th>6</th>\n",
       "      <td>-0.106505</td>\n",
       "      <td>0.066890</td>\n",
       "      <td>-1.237298</td>\n",
       "      <td>-1.177525</td>\n",
       "      <td>-0.792041</td>\n",
       "      <td>-0.899194</td>\n",
       "      <td>0.143282</td>\n",
       "      <td>-0.582528</td>\n",
       "      <td>0.0</td>\n",
       "      <td>0.0</td>\n",
       "      <td>0.0</td>\n",
       "      <td>0.0</td>\n",
       "      <td>0.0</td>\n",
       "      <td>0.0</td>\n",
       "      <td>0.0</td>\n",
       "      <td>1.0</td>\n",
       "      <td>0.0</td>\n",
       "      <td>0.0</td>\n",
       "      <td>0.0</td>\n",
       "      <td>0.0</td>\n",
       "      <td>0.0</td>\n",
       "      <td>0.0</td>\n",
       "      <td>0.0</td>\n",
       "    </tr>\n",
       "    <tr>\n",
       "      <th>7</th>\n",
       "      <td>0.475038</td>\n",
       "      <td>0.577501</td>\n",
       "      <td>0.538625</td>\n",
       "      <td>0.194455</td>\n",
       "      <td>-0.674444</td>\n",
       "      <td>-0.091268</td>\n",
       "      <td>1.367437</td>\n",
       "      <td>1.874114</td>\n",
       "      <td>0.0</td>\n",
       "      <td>0.0</td>\n",
       "      <td>0.0</td>\n",
       "      <td>0.0</td>\n",
       "      <td>0.0</td>\n",
       "      <td>0.0</td>\n",
       "      <td>0.0</td>\n",
       "      <td>0.0</td>\n",
       "      <td>1.0</td>\n",
       "      <td>0.0</td>\n",
       "      <td>0.0</td>\n",
       "      <td>1.0</td>\n",
       "      <td>0.0</td>\n",
       "      <td>0.0</td>\n",
       "      <td>0.0</td>\n",
       "    </tr>\n",
       "    <tr>\n",
       "      <th>8</th>\n",
       "      <td>0.475038</td>\n",
       "      <td>1.038062</td>\n",
       "      <td>1.913533</td>\n",
       "      <td>-0.702351</td>\n",
       "      <td>-0.801313</td>\n",
       "      <td>-0.995639</td>\n",
       "      <td>-0.737769</td>\n",
       "      <td>-0.943362</td>\n",
       "      <td>0.0</td>\n",
       "      <td>1.0</td>\n",
       "      <td>0.0</td>\n",
       "      <td>0.0</td>\n",
       "      <td>0.0</td>\n",
       "      <td>0.0</td>\n",
       "      <td>0.0</td>\n",
       "      <td>1.0</td>\n",
       "      <td>0.0</td>\n",
       "      <td>0.0</td>\n",
       "      <td>0.0</td>\n",
       "      <td>0.0</td>\n",
       "      <td>0.0</td>\n",
       "      <td>1.0</td>\n",
       "      <td>0.0</td>\n",
       "    </tr>\n",
       "    <tr>\n",
       "      <th>9</th>\n",
       "      <td>1.056581</td>\n",
       "      <td>0.172522</td>\n",
       "      <td>1.970821</td>\n",
       "      <td>-0.590250</td>\n",
       "      <td>0.011925</td>\n",
       "      <td>0.410303</td>\n",
       "      <td>0.789847</td>\n",
       "      <td>0.598396</td>\n",
       "      <td>0.0</td>\n",
       "      <td>0.0</td>\n",
       "      <td>0.0</td>\n",
       "      <td>0.0</td>\n",
       "      <td>0.0</td>\n",
       "      <td>0.0</td>\n",
       "      <td>0.0</td>\n",
       "      <td>1.0</td>\n",
       "      <td>0.0</td>\n",
       "      <td>0.0</td>\n",
       "      <td>0.0</td>\n",
       "      <td>0.0</td>\n",
       "      <td>0.0</td>\n",
       "      <td>0.0</td>\n",
       "      <td>0.0</td>\n",
       "    </tr>\n",
       "  </tbody>\n",
       "</table>\n",
       "</div>"
      ],
      "text/plain": [
       "   VehicleAge    VehOdo  VehBCost  WarrantyCost  AcquisitionAuctionRatio  \\\n",
       "0   -0.106505  0.157568 -1.065435      0.194455                -2.234466   \n",
       "1    0.475038 -0.401661 -1.523737     -1.075463                -1.699265   \n",
       "2   -0.106505 -0.145604 -1.581025     -0.422936                -0.680499   \n",
       "3    0.475038  0.652406 -0.664420     -1.135696                -0.365471   \n",
       "4    0.475038  0.319123  1.168791     -0.590250                -0.350520   \n",
       "5   -0.688048 -2.437894 -0.492556     -1.356551                 0.555759   \n",
       "6   -0.106505  0.066890 -1.237298     -1.177525                -0.792041   \n",
       "7    0.475038  0.577501  0.538625      0.194455                -0.674444   \n",
       "8    0.475038  1.038062  1.913533     -0.702351                -0.801313   \n",
       "9    1.056581  0.172522  1.970821     -0.590250                 0.011925   \n",
       "\n",
       "   AcquisitionRetailRatio  CurrentAuctionRatio  CurrentRetailRatio  \\\n",
       "0               -0.625095            -1.407804           -0.679097   \n",
       "1               -0.670383            -1.860623           -1.232409   \n",
       "2                0.648377            -1.182456           -0.080270   \n",
       "3               -1.379759            -0.136272            0.122553   \n",
       "4               -0.373017            -0.241899            0.597293   \n",
       "5                1.206192             0.672741            0.249500   \n",
       "6               -0.899194             0.143282           -0.582528   \n",
       "7               -0.091268             1.367437            1.874114   \n",
       "8               -0.995639            -0.737769           -0.943362   \n",
       "9                0.410303             0.789847            0.598396   \n",
       "\n",
       "   Make_CHEVROLET  Make_FORD  Make_INFINITI  Make_LEXUS  Make_MINI  \\\n",
       "0             0.0        0.0            0.0         0.0        0.0   \n",
       "1             0.0        0.0            0.0         0.0        0.0   \n",
       "2             0.0        1.0            0.0         0.0        0.0   \n",
       "3             0.0        0.0            0.0         0.0        0.0   \n",
       "4             0.0        0.0            0.0         0.0        0.0   \n",
       "5             0.0        0.0            0.0         0.0        0.0   \n",
       "6             0.0        0.0            0.0         0.0        0.0   \n",
       "7             0.0        0.0            0.0         0.0        0.0   \n",
       "8             0.0        1.0            0.0         0.0        0.0   \n",
       "9             0.0        0.0            0.0         0.0        0.0   \n",
       "\n",
       "   Color_GOLD  Color_OTHER  WheelType_Alloy  WheelType_Covers  Size_COMPACT  \\\n",
       "0         0.0          0.0              0.0               1.0           0.0   \n",
       "1         0.0          0.0              1.0               0.0           1.0   \n",
       "2         0.0          0.0              0.0               1.0           1.0   \n",
       "3         0.0          0.0              0.0               1.0           0.0   \n",
       "4         0.0          0.0              1.0               0.0           0.0   \n",
       "5         1.0          0.0              0.0               1.0           0.0   \n",
       "6         0.0          0.0              1.0               0.0           0.0   \n",
       "7         0.0          0.0              0.0               1.0           0.0   \n",
       "8         0.0          0.0              1.0               0.0           0.0   \n",
       "9         0.0          0.0              1.0               0.0           0.0   \n",
       "\n",
       "   Size_LARGE  Size_MEDIUM SUV  Size_SMALL SUV  TopThreeAmericanName_FORD  \\\n",
       "0         0.0              0.0             0.0                        0.0   \n",
       "1         0.0              0.0             0.0                        0.0   \n",
       "2         0.0              0.0             0.0                        1.0   \n",
       "3         0.0              0.0             0.0                        0.0   \n",
       "4         0.0              0.0             0.0                        0.0   \n",
       "5         0.0              0.0             0.0                        0.0   \n",
       "6         0.0              0.0             0.0                        0.0   \n",
       "7         0.0              1.0             0.0                        0.0   \n",
       "8         0.0              0.0             0.0                        1.0   \n",
       "9         0.0              0.0             0.0                        0.0   \n",
       "\n",
       "   TopThreeAmericanName_GM  \n",
       "0                      0.0  \n",
       "1                      0.0  \n",
       "2                      0.0  \n",
       "3                      0.0  \n",
       "4                      0.0  \n",
       "5                      0.0  \n",
       "6                      0.0  \n",
       "7                      0.0  \n",
       "8                      0.0  \n",
       "9                      0.0  "
      ]
     },
     "execution_count": 80,
     "metadata": {},
     "output_type": "execute_result"
    }
   ],
   "source": [
    "X_new.head(10)"
   ]
  },
  {
   "cell_type": "code",
   "execution_count": 81,
   "id": "074995ec",
   "metadata": {},
   "outputs": [],
   "source": [
    "#Sada na osnovu novog dataseta pravimo nove podele train i test seta\n",
    "X_new_train, X_new_test, Y_new_train, Y_new_test = train_test_split(X_new, Y, test_size=0.3, random_state=0)"
   ]
  },
  {
   "cell_type": "markdown",
   "id": "4d245981",
   "metadata": {},
   "source": [
    "# Konacni modeli"
   ]
  },
  {
   "cell_type": "code",
   "execution_count": 86,
   "id": "67ebc815",
   "metadata": {},
   "outputs": [
    {
     "data": {
      "text/html": [
       "<style>#sk-container-id-17 {color: black;background-color: white;}#sk-container-id-17 pre{padding: 0;}#sk-container-id-17 div.sk-toggleable {background-color: white;}#sk-container-id-17 label.sk-toggleable__label {cursor: pointer;display: block;width: 100%;margin-bottom: 0;padding: 0.3em;box-sizing: border-box;text-align: center;}#sk-container-id-17 label.sk-toggleable__label-arrow:before {content: \"▸\";float: left;margin-right: 0.25em;color: #696969;}#sk-container-id-17 label.sk-toggleable__label-arrow:hover:before {color: black;}#sk-container-id-17 div.sk-estimator:hover label.sk-toggleable__label-arrow:before {color: black;}#sk-container-id-17 div.sk-toggleable__content {max-height: 0;max-width: 0;overflow: hidden;text-align: left;background-color: #f0f8ff;}#sk-container-id-17 div.sk-toggleable__content pre {margin: 0.2em;color: black;border-radius: 0.25em;background-color: #f0f8ff;}#sk-container-id-17 input.sk-toggleable__control:checked~div.sk-toggleable__content {max-height: 200px;max-width: 100%;overflow: auto;}#sk-container-id-17 input.sk-toggleable__control:checked~label.sk-toggleable__label-arrow:before {content: \"▾\";}#sk-container-id-17 div.sk-estimator input.sk-toggleable__control:checked~label.sk-toggleable__label {background-color: #d4ebff;}#sk-container-id-17 div.sk-label input.sk-toggleable__control:checked~label.sk-toggleable__label {background-color: #d4ebff;}#sk-container-id-17 input.sk-hidden--visually {border: 0;clip: rect(1px 1px 1px 1px);clip: rect(1px, 1px, 1px, 1px);height: 1px;margin: -1px;overflow: hidden;padding: 0;position: absolute;width: 1px;}#sk-container-id-17 div.sk-estimator {font-family: monospace;background-color: #f0f8ff;border: 1px dotted black;border-radius: 0.25em;box-sizing: border-box;margin-bottom: 0.5em;}#sk-container-id-17 div.sk-estimator:hover {background-color: #d4ebff;}#sk-container-id-17 div.sk-parallel-item::after {content: \"\";width: 100%;border-bottom: 1px solid gray;flex-grow: 1;}#sk-container-id-17 div.sk-label:hover label.sk-toggleable__label {background-color: #d4ebff;}#sk-container-id-17 div.sk-serial::before {content: \"\";position: absolute;border-left: 1px solid gray;box-sizing: border-box;top: 0;bottom: 0;left: 50%;z-index: 0;}#sk-container-id-17 div.sk-serial {display: flex;flex-direction: column;align-items: center;background-color: white;padding-right: 0.2em;padding-left: 0.2em;position: relative;}#sk-container-id-17 div.sk-item {position: relative;z-index: 1;}#sk-container-id-17 div.sk-parallel {display: flex;align-items: stretch;justify-content: center;background-color: white;position: relative;}#sk-container-id-17 div.sk-item::before, #sk-container-id-17 div.sk-parallel-item::before {content: \"\";position: absolute;border-left: 1px solid gray;box-sizing: border-box;top: 0;bottom: 0;left: 50%;z-index: -1;}#sk-container-id-17 div.sk-parallel-item {display: flex;flex-direction: column;z-index: 1;position: relative;background-color: white;}#sk-container-id-17 div.sk-parallel-item:first-child::after {align-self: flex-end;width: 50%;}#sk-container-id-17 div.sk-parallel-item:last-child::after {align-self: flex-start;width: 50%;}#sk-container-id-17 div.sk-parallel-item:only-child::after {width: 0;}#sk-container-id-17 div.sk-dashed-wrapped {border: 1px dashed gray;margin: 0 0.4em 0.5em 0.4em;box-sizing: border-box;padding-bottom: 0.4em;background-color: white;}#sk-container-id-17 div.sk-label label {font-family: monospace;font-weight: bold;display: inline-block;line-height: 1.2em;}#sk-container-id-17 div.sk-label-container {text-align: center;}#sk-container-id-17 div.sk-container {/* jupyter's `normalize.less` sets `[hidden] { display: none; }` but bootstrap.min.css set `[hidden] { display: none !important; }` so we also need the `!important` here to be able to override the default hidden behavior on the sphinx rendered scikit-learn.org. See: https://github.com/scikit-learn/scikit-learn/issues/21755 */display: inline-block !important;position: relative;}#sk-container-id-17 div.sk-text-repr-fallback {display: none;}</style><div id=\"sk-container-id-17\" class=\"sk-top-container\"><div class=\"sk-text-repr-fallback\"><pre>DecisionTreeClassifier(max_depth=15, max_features=3, min_samples_leaf=30)</pre><b>In a Jupyter environment, please rerun this cell to show the HTML representation or trust the notebook. <br />On GitHub, the HTML representation is unable to render, please try loading this page with nbviewer.org.</b></div><div class=\"sk-container\" hidden><div class=\"sk-item\"><div class=\"sk-estimator sk-toggleable\"><input class=\"sk-toggleable__control sk-hidden--visually\" id=\"sk-estimator-id-33\" type=\"checkbox\" checked><label for=\"sk-estimator-id-33\" class=\"sk-toggleable__label sk-toggleable__label-arrow\">DecisionTreeClassifier</label><div class=\"sk-toggleable__content\"><pre>DecisionTreeClassifier(max_depth=15, max_features=3, min_samples_leaf=30)</pre></div></div></div></div></div>"
      ],
      "text/plain": [
       "DecisionTreeClassifier(max_depth=15, max_features=3, min_samples_leaf=30)"
      ]
     },
     "execution_count": 86,
     "metadata": {},
     "output_type": "execute_result"
    }
   ],
   "source": [
    "#Drvo odlucivanja sa optimalnim parametrima i nad novim skupom podataka\n",
    "tree_params = {'max_features': [3,4,5,7,10,15,17,20,23,26,30], 'min_samples_leaf': [10,15,18,20,25,28,30], 'max_depth': [10,12,15,17,20]}\n",
    "tree_grid = GridSearchCV(DecisionTreeClassifier(), parameters, cv = 5, scoring='roc_auc')\n",
    "\n",
    "tree_grid.fit(X_new_train, Y_new_train)\n",
    "tree_grid.best_params_\n",
    "tree2 = tree_grid.best_estimator_\n",
    "tree2.fit(X_new_train, Y_new_train)"
   ]
  },
  {
   "cell_type": "code",
   "execution_count": 87,
   "id": "33b58dea",
   "metadata": {},
   "outputs": [
    {
     "data": {
      "text/plain": [
       "0.5969727457104224"
      ]
     },
     "execution_count": 87,
     "metadata": {},
     "output_type": "execute_result"
    }
   ],
   "source": [
    "cross_val_score(tree2 ,X_new_train, Y_new_train, cv = 10, scoring=\"roc_auc\").mean()"
   ]
  },
  {
   "cell_type": "code",
   "execution_count": 88,
   "id": "41548df8",
   "metadata": {},
   "outputs": [
    {
     "data": {
      "text/plain": [
       "array([0, 0, 0, ..., 0, 0, 0], dtype=int64)"
      ]
     },
     "execution_count": 88,
     "metadata": {},
     "output_type": "execute_result"
    }
   ],
   "source": [
    "Y_pred_tree2 = tree2.predict(X_new_test)\n",
    "Y_pred_tree2"
   ]
  },
  {
   "cell_type": "code",
   "execution_count": 89,
   "id": "8620f8ef",
   "metadata": {},
   "outputs": [
    {
     "data": {
      "text/plain": [
       "array([[1777,   11],\n",
       "       [ 247,    5]], dtype=int64)"
      ]
     },
     "execution_count": 89,
     "metadata": {},
     "output_type": "execute_result"
    }
   ],
   "source": [
    "confusion_matrix(Y_new_test, Y_pred_tree2)"
   ]
  },
  {
   "cell_type": "code",
   "execution_count": 90,
   "id": "9a5e7d40",
   "metadata": {},
   "outputs": [
    {
     "name": "stdout",
     "output_type": "stream",
     "text": [
      "Accuracy : 0.8735294117647059\n",
      "Precision : 0.3125\n",
      "Recall : 0.01984126984126984\n",
      "F1 : 0.03731343283582089\n"
     ]
    }
   ],
   "source": [
    "evaluate_metrics(Y_new_test, Y_pred_tree2)"
   ]
  },
  {
   "cell_type": "code",
   "execution_count": null,
   "id": "fb2cf82c",
   "metadata": {},
   "outputs": [],
   "source": []
  },
  {
   "cell_type": "code",
   "execution_count": null,
   "id": "9f8cc6c9",
   "metadata": {},
   "outputs": [],
   "source": [
    "#Knn model nad novim datasetom i sa optimalnim parametrima"
   ]
  },
  {
   "cell_type": "code",
   "execution_count": 96,
   "id": "30d74ef4",
   "metadata": {},
   "outputs": [
    {
     "data": {
      "text/html": [
       "<style>#sk-container-id-21 {color: black;background-color: white;}#sk-container-id-21 pre{padding: 0;}#sk-container-id-21 div.sk-toggleable {background-color: white;}#sk-container-id-21 label.sk-toggleable__label {cursor: pointer;display: block;width: 100%;margin-bottom: 0;padding: 0.3em;box-sizing: border-box;text-align: center;}#sk-container-id-21 label.sk-toggleable__label-arrow:before {content: \"▸\";float: left;margin-right: 0.25em;color: #696969;}#sk-container-id-21 label.sk-toggleable__label-arrow:hover:before {color: black;}#sk-container-id-21 div.sk-estimator:hover label.sk-toggleable__label-arrow:before {color: black;}#sk-container-id-21 div.sk-toggleable__content {max-height: 0;max-width: 0;overflow: hidden;text-align: left;background-color: #f0f8ff;}#sk-container-id-21 div.sk-toggleable__content pre {margin: 0.2em;color: black;border-radius: 0.25em;background-color: #f0f8ff;}#sk-container-id-21 input.sk-toggleable__control:checked~div.sk-toggleable__content {max-height: 200px;max-width: 100%;overflow: auto;}#sk-container-id-21 input.sk-toggleable__control:checked~label.sk-toggleable__label-arrow:before {content: \"▾\";}#sk-container-id-21 div.sk-estimator input.sk-toggleable__control:checked~label.sk-toggleable__label {background-color: #d4ebff;}#sk-container-id-21 div.sk-label input.sk-toggleable__control:checked~label.sk-toggleable__label {background-color: #d4ebff;}#sk-container-id-21 input.sk-hidden--visually {border: 0;clip: rect(1px 1px 1px 1px);clip: rect(1px, 1px, 1px, 1px);height: 1px;margin: -1px;overflow: hidden;padding: 0;position: absolute;width: 1px;}#sk-container-id-21 div.sk-estimator {font-family: monospace;background-color: #f0f8ff;border: 1px dotted black;border-radius: 0.25em;box-sizing: border-box;margin-bottom: 0.5em;}#sk-container-id-21 div.sk-estimator:hover {background-color: #d4ebff;}#sk-container-id-21 div.sk-parallel-item::after {content: \"\";width: 100%;border-bottom: 1px solid gray;flex-grow: 1;}#sk-container-id-21 div.sk-label:hover label.sk-toggleable__label {background-color: #d4ebff;}#sk-container-id-21 div.sk-serial::before {content: \"\";position: absolute;border-left: 1px solid gray;box-sizing: border-box;top: 0;bottom: 0;left: 50%;z-index: 0;}#sk-container-id-21 div.sk-serial {display: flex;flex-direction: column;align-items: center;background-color: white;padding-right: 0.2em;padding-left: 0.2em;position: relative;}#sk-container-id-21 div.sk-item {position: relative;z-index: 1;}#sk-container-id-21 div.sk-parallel {display: flex;align-items: stretch;justify-content: center;background-color: white;position: relative;}#sk-container-id-21 div.sk-item::before, #sk-container-id-21 div.sk-parallel-item::before {content: \"\";position: absolute;border-left: 1px solid gray;box-sizing: border-box;top: 0;bottom: 0;left: 50%;z-index: -1;}#sk-container-id-21 div.sk-parallel-item {display: flex;flex-direction: column;z-index: 1;position: relative;background-color: white;}#sk-container-id-21 div.sk-parallel-item:first-child::after {align-self: flex-end;width: 50%;}#sk-container-id-21 div.sk-parallel-item:last-child::after {align-self: flex-start;width: 50%;}#sk-container-id-21 div.sk-parallel-item:only-child::after {width: 0;}#sk-container-id-21 div.sk-dashed-wrapped {border: 1px dashed gray;margin: 0 0.4em 0.5em 0.4em;box-sizing: border-box;padding-bottom: 0.4em;background-color: white;}#sk-container-id-21 div.sk-label label {font-family: monospace;font-weight: bold;display: inline-block;line-height: 1.2em;}#sk-container-id-21 div.sk-label-container {text-align: center;}#sk-container-id-21 div.sk-container {/* jupyter's `normalize.less` sets `[hidden] { display: none; }` but bootstrap.min.css set `[hidden] { display: none !important; }` so we also need the `!important` here to be able to override the default hidden behavior on the sphinx rendered scikit-learn.org. See: https://github.com/scikit-learn/scikit-learn/issues/21755 */display: inline-block !important;position: relative;}#sk-container-id-21 div.sk-text-repr-fallback {display: none;}</style><div id=\"sk-container-id-21\" class=\"sk-top-container\"><div class=\"sk-text-repr-fallback\"><pre>KNeighborsClassifier(metric=&#x27;euclidean&#x27;, n_neighbors=15)</pre><b>In a Jupyter environment, please rerun this cell to show the HTML representation or trust the notebook. <br />On GitHub, the HTML representation is unable to render, please try loading this page with nbviewer.org.</b></div><div class=\"sk-container\" hidden><div class=\"sk-item\"><div class=\"sk-estimator sk-toggleable\"><input class=\"sk-toggleable__control sk-hidden--visually\" id=\"sk-estimator-id-37\" type=\"checkbox\" checked><label for=\"sk-estimator-id-37\" class=\"sk-toggleable__label sk-toggleable__label-arrow\">KNeighborsClassifier</label><div class=\"sk-toggleable__content\"><pre>KNeighborsClassifier(metric=&#x27;euclidean&#x27;, n_neighbors=15)</pre></div></div></div></div></div>"
      ],
      "text/plain": [
       "KNeighborsClassifier(metric='euclidean', n_neighbors=15)"
      ]
     },
     "execution_count": 96,
     "metadata": {},
     "output_type": "execute_result"
    }
   ],
   "source": [
    "knn_params = {'n_neighbors' : [3,5,7,9,11,13,15], 'weights' : ['uniform', 'distance'],  'metric' : ['euclidean', 'manhattan']}\n",
    "knn_grid = GridSearchCV(KNeighborsClassifier(), knn_params, cv = 5, scoring=\"roc_auc\")\n",
    "knn_grid.fit(X_new_train, Y_new_train)\n",
    "knn_grid.best_params_\n",
    "knn2 = knn_grid.best_estimator_\n",
    "knn2.fit(X_new_train, Y_new_train)"
   ]
  },
  {
   "cell_type": "code",
   "execution_count": 97,
   "id": "3693b881",
   "metadata": {},
   "outputs": [
    {
     "data": {
      "text/plain": [
       "0.6165521901060814"
      ]
     },
     "execution_count": 97,
     "metadata": {},
     "output_type": "execute_result"
    }
   ],
   "source": [
    "cross_val_score(knn2 ,X_new_train, Y_new_train, cv = 10, scoring=\"roc_auc\").mean()"
   ]
  },
  {
   "cell_type": "code",
   "execution_count": 98,
   "id": "02a4eecb",
   "metadata": {},
   "outputs": [
    {
     "data": {
      "text/plain": [
       "array([0, 0, 0, ..., 0, 0, 0], dtype=int64)"
      ]
     },
     "execution_count": 98,
     "metadata": {},
     "output_type": "execute_result"
    }
   ],
   "source": [
    "Y_pred_knn2 = knn2.predict(X_new_test)\n",
    "Y_pred_knn2"
   ]
  },
  {
   "cell_type": "code",
   "execution_count": 100,
   "id": "3a8e028c",
   "metadata": {},
   "outputs": [
    {
     "data": {
      "text/plain": [
       "array([[1786,    2],\n",
       "       [ 251,    1]], dtype=int64)"
      ]
     },
     "execution_count": 100,
     "metadata": {},
     "output_type": "execute_result"
    }
   ],
   "source": [
    "confusion_matrix(Y_new_test, Y_pred_knn2)"
   ]
  },
  {
   "cell_type": "code",
   "execution_count": 101,
   "id": "2e15b103",
   "metadata": {},
   "outputs": [
    {
     "name": "stdout",
     "output_type": "stream",
     "text": [
      "Accuracy : 0.8759803921568627\n",
      "Precision : 0.3333333333333333\n",
      "Recall : 0.003968253968253968\n",
      "F1 : 0.00784313725490196\n"
     ]
    }
   ],
   "source": [
    "evaluate_metrics(Y_new_test, Y_pred_knn2)"
   ]
  },
  {
   "cell_type": "code",
   "execution_count": null,
   "id": "a7d7cf02",
   "metadata": {},
   "outputs": [],
   "source": []
  },
  {
   "cell_type": "code",
   "execution_count": null,
   "id": "4873e9f4",
   "metadata": {},
   "outputs": [],
   "source": [
    "#Voting model nad novim datasetom i optimalnim parametrima"
   ]
  },
  {
   "cell_type": "code",
   "execution_count": 104,
   "id": "cb22a8d3",
   "metadata": {},
   "outputs": [
    {
     "data": {
      "text/html": [
       "<style>#sk-container-id-23 {color: black;background-color: white;}#sk-container-id-23 pre{padding: 0;}#sk-container-id-23 div.sk-toggleable {background-color: white;}#sk-container-id-23 label.sk-toggleable__label {cursor: pointer;display: block;width: 100%;margin-bottom: 0;padding: 0.3em;box-sizing: border-box;text-align: center;}#sk-container-id-23 label.sk-toggleable__label-arrow:before {content: \"▸\";float: left;margin-right: 0.25em;color: #696969;}#sk-container-id-23 label.sk-toggleable__label-arrow:hover:before {color: black;}#sk-container-id-23 div.sk-estimator:hover label.sk-toggleable__label-arrow:before {color: black;}#sk-container-id-23 div.sk-toggleable__content {max-height: 0;max-width: 0;overflow: hidden;text-align: left;background-color: #f0f8ff;}#sk-container-id-23 div.sk-toggleable__content pre {margin: 0.2em;color: black;border-radius: 0.25em;background-color: #f0f8ff;}#sk-container-id-23 input.sk-toggleable__control:checked~div.sk-toggleable__content {max-height: 200px;max-width: 100%;overflow: auto;}#sk-container-id-23 input.sk-toggleable__control:checked~label.sk-toggleable__label-arrow:before {content: \"▾\";}#sk-container-id-23 div.sk-estimator input.sk-toggleable__control:checked~label.sk-toggleable__label {background-color: #d4ebff;}#sk-container-id-23 div.sk-label input.sk-toggleable__control:checked~label.sk-toggleable__label {background-color: #d4ebff;}#sk-container-id-23 input.sk-hidden--visually {border: 0;clip: rect(1px 1px 1px 1px);clip: rect(1px, 1px, 1px, 1px);height: 1px;margin: -1px;overflow: hidden;padding: 0;position: absolute;width: 1px;}#sk-container-id-23 div.sk-estimator {font-family: monospace;background-color: #f0f8ff;border: 1px dotted black;border-radius: 0.25em;box-sizing: border-box;margin-bottom: 0.5em;}#sk-container-id-23 div.sk-estimator:hover {background-color: #d4ebff;}#sk-container-id-23 div.sk-parallel-item::after {content: \"\";width: 100%;border-bottom: 1px solid gray;flex-grow: 1;}#sk-container-id-23 div.sk-label:hover label.sk-toggleable__label {background-color: #d4ebff;}#sk-container-id-23 div.sk-serial::before {content: \"\";position: absolute;border-left: 1px solid gray;box-sizing: border-box;top: 0;bottom: 0;left: 50%;z-index: 0;}#sk-container-id-23 div.sk-serial {display: flex;flex-direction: column;align-items: center;background-color: white;padding-right: 0.2em;padding-left: 0.2em;position: relative;}#sk-container-id-23 div.sk-item {position: relative;z-index: 1;}#sk-container-id-23 div.sk-parallel {display: flex;align-items: stretch;justify-content: center;background-color: white;position: relative;}#sk-container-id-23 div.sk-item::before, #sk-container-id-23 div.sk-parallel-item::before {content: \"\";position: absolute;border-left: 1px solid gray;box-sizing: border-box;top: 0;bottom: 0;left: 50%;z-index: -1;}#sk-container-id-23 div.sk-parallel-item {display: flex;flex-direction: column;z-index: 1;position: relative;background-color: white;}#sk-container-id-23 div.sk-parallel-item:first-child::after {align-self: flex-end;width: 50%;}#sk-container-id-23 div.sk-parallel-item:last-child::after {align-self: flex-start;width: 50%;}#sk-container-id-23 div.sk-parallel-item:only-child::after {width: 0;}#sk-container-id-23 div.sk-dashed-wrapped {border: 1px dashed gray;margin: 0 0.4em 0.5em 0.4em;box-sizing: border-box;padding-bottom: 0.4em;background-color: white;}#sk-container-id-23 div.sk-label label {font-family: monospace;font-weight: bold;display: inline-block;line-height: 1.2em;}#sk-container-id-23 div.sk-label-container {text-align: center;}#sk-container-id-23 div.sk-container {/* jupyter's `normalize.less` sets `[hidden] { display: none; }` but bootstrap.min.css set `[hidden] { display: none !important; }` so we also need the `!important` here to be able to override the default hidden behavior on the sphinx rendered scikit-learn.org. See: https://github.com/scikit-learn/scikit-learn/issues/21755 */display: inline-block !important;position: relative;}#sk-container-id-23 div.sk-text-repr-fallback {display: none;}</style><div id=\"sk-container-id-23\" class=\"sk-top-container\"><div class=\"sk-text-repr-fallback\"><pre>VotingClassifier(estimators=[(&#x27;tree&#x27;,\n",
       "                              DecisionTreeClassifier(max_depth=15,\n",
       "                                                     max_features=3,\n",
       "                                                     min_samples_leaf=30)),\n",
       "                             (&#x27;knn&#x27;,\n",
       "                              KNeighborsClassifier(metric=&#x27;euclidean&#x27;,\n",
       "                                                   n_neighbors=15))],\n",
       "                 voting=&#x27;soft&#x27;)</pre><b>In a Jupyter environment, please rerun this cell to show the HTML representation or trust the notebook. <br />On GitHub, the HTML representation is unable to render, please try loading this page with nbviewer.org.</b></div><div class=\"sk-container\" hidden><div class=\"sk-item sk-dashed-wrapped\"><div class=\"sk-label-container\"><div class=\"sk-label sk-toggleable\"><input class=\"sk-toggleable__control sk-hidden--visually\" id=\"sk-estimator-id-41\" type=\"checkbox\" ><label for=\"sk-estimator-id-41\" class=\"sk-toggleable__label sk-toggleable__label-arrow\">VotingClassifier</label><div class=\"sk-toggleable__content\"><pre>VotingClassifier(estimators=[(&#x27;tree&#x27;,\n",
       "                              DecisionTreeClassifier(max_depth=15,\n",
       "                                                     max_features=3,\n",
       "                                                     min_samples_leaf=30)),\n",
       "                             (&#x27;knn&#x27;,\n",
       "                              KNeighborsClassifier(metric=&#x27;euclidean&#x27;,\n",
       "                                                   n_neighbors=15))],\n",
       "                 voting=&#x27;soft&#x27;)</pre></div></div></div><div class=\"sk-parallel\"><div class=\"sk-parallel-item\"><div class=\"sk-item\"><div class=\"sk-label-container\"><div class=\"sk-label sk-toggleable\"><label>tree</label></div></div><div class=\"sk-serial\"><div class=\"sk-item\"><div class=\"sk-estimator sk-toggleable\"><input class=\"sk-toggleable__control sk-hidden--visually\" id=\"sk-estimator-id-42\" type=\"checkbox\" ><label for=\"sk-estimator-id-42\" class=\"sk-toggleable__label sk-toggleable__label-arrow\">DecisionTreeClassifier</label><div class=\"sk-toggleable__content\"><pre>DecisionTreeClassifier(max_depth=15, max_features=3, min_samples_leaf=30)</pre></div></div></div></div></div></div><div class=\"sk-parallel-item\"><div class=\"sk-item\"><div class=\"sk-label-container\"><div class=\"sk-label sk-toggleable\"><label>knn</label></div></div><div class=\"sk-serial\"><div class=\"sk-item\"><div class=\"sk-estimator sk-toggleable\"><input class=\"sk-toggleable__control sk-hidden--visually\" id=\"sk-estimator-id-43\" type=\"checkbox\" ><label for=\"sk-estimator-id-43\" class=\"sk-toggleable__label sk-toggleable__label-arrow\">KNeighborsClassifier</label><div class=\"sk-toggleable__content\"><pre>KNeighborsClassifier(metric=&#x27;euclidean&#x27;, n_neighbors=15)</pre></div></div></div></div></div></div></div></div></div></div>"
      ],
      "text/plain": [
       "VotingClassifier(estimators=[('tree',\n",
       "                              DecisionTreeClassifier(max_depth=15,\n",
       "                                                     max_features=3,\n",
       "                                                     min_samples_leaf=30)),\n",
       "                             ('knn',\n",
       "                              KNeighborsClassifier(metric='euclidean',\n",
       "                                                   n_neighbors=15))],\n",
       "                 voting='soft')"
      ]
     },
     "execution_count": 104,
     "metadata": {},
     "output_type": "execute_result"
    }
   ],
   "source": [
    "voting_model2 = VotingClassifier(voting = \"soft\", estimators=[('tree', tree2), ('knn', knn2)])\n",
    "\n",
    "voting_model2.fit(X_new_train, Y_new_train)"
   ]
  },
  {
   "cell_type": "code",
   "execution_count": 105,
   "id": "4f7f968d",
   "metadata": {},
   "outputs": [
    {
     "data": {
      "text/plain": [
       "0.6414620805126714"
      ]
     },
     "execution_count": 105,
     "metadata": {},
     "output_type": "execute_result"
    }
   ],
   "source": [
    "cross_val_score(voting_model2, X_new_train, Y_new_train, cv=10, scoring='roc_auc').mean()"
   ]
  },
  {
   "cell_type": "code",
   "execution_count": 107,
   "id": "04e401e9",
   "metadata": {},
   "outputs": [
    {
     "data": {
      "text/plain": [
       "array([[1788,    0],\n",
       "       [ 252,    0]], dtype=int64)"
      ]
     },
     "execution_count": 107,
     "metadata": {},
     "output_type": "execute_result"
    }
   ],
   "source": [
    "Y_pred_voting2 = voting_model2.predict(X_new_test)\n",
    "confusion_matrix(Y_new_test, Y_pred_voting2)"
   ]
  },
  {
   "cell_type": "code",
   "execution_count": 108,
   "id": "6e628178",
   "metadata": {},
   "outputs": [
    {
     "name": "stdout",
     "output_type": "stream",
     "text": [
      "Accuracy : 0.8764705882352941\n",
      "Precision : 0.0\n",
      "Recall : 0.0\n",
      "F1 : 0.0\n"
     ]
    },
    {
     "name": "stderr",
     "output_type": "stream",
     "text": [
      "C:\\Users\\zelja\\AppData\\Roaming\\Python\\Python39\\site-packages\\sklearn\\metrics\\_classification.py:1327: UndefinedMetricWarning: Precision is ill-defined and being set to 0.0 due to no predicted samples. Use `zero_division` parameter to control this behavior.\n",
      "  _warn_prf(average, modifier, msg_start, len(result))\n"
     ]
    }
   ],
   "source": [
    "evaluate_metrics(Y_new_test, Y_pred_voting2)"
   ]
  },
  {
   "cell_type": "code",
   "execution_count": 109,
   "id": "46994b67",
   "metadata": {},
   "outputs": [
    {
     "data": {
      "text/html": [
       "<style>#sk-container-id-24 {color: black;background-color: white;}#sk-container-id-24 pre{padding: 0;}#sk-container-id-24 div.sk-toggleable {background-color: white;}#sk-container-id-24 label.sk-toggleable__label {cursor: pointer;display: block;width: 100%;margin-bottom: 0;padding: 0.3em;box-sizing: border-box;text-align: center;}#sk-container-id-24 label.sk-toggleable__label-arrow:before {content: \"▸\";float: left;margin-right: 0.25em;color: #696969;}#sk-container-id-24 label.sk-toggleable__label-arrow:hover:before {color: black;}#sk-container-id-24 div.sk-estimator:hover label.sk-toggleable__label-arrow:before {color: black;}#sk-container-id-24 div.sk-toggleable__content {max-height: 0;max-width: 0;overflow: hidden;text-align: left;background-color: #f0f8ff;}#sk-container-id-24 div.sk-toggleable__content pre {margin: 0.2em;color: black;border-radius: 0.25em;background-color: #f0f8ff;}#sk-container-id-24 input.sk-toggleable__control:checked~div.sk-toggleable__content {max-height: 200px;max-width: 100%;overflow: auto;}#sk-container-id-24 input.sk-toggleable__control:checked~label.sk-toggleable__label-arrow:before {content: \"▾\";}#sk-container-id-24 div.sk-estimator input.sk-toggleable__control:checked~label.sk-toggleable__label {background-color: #d4ebff;}#sk-container-id-24 div.sk-label input.sk-toggleable__control:checked~label.sk-toggleable__label {background-color: #d4ebff;}#sk-container-id-24 input.sk-hidden--visually {border: 0;clip: rect(1px 1px 1px 1px);clip: rect(1px, 1px, 1px, 1px);height: 1px;margin: -1px;overflow: hidden;padding: 0;position: absolute;width: 1px;}#sk-container-id-24 div.sk-estimator {font-family: monospace;background-color: #f0f8ff;border: 1px dotted black;border-radius: 0.25em;box-sizing: border-box;margin-bottom: 0.5em;}#sk-container-id-24 div.sk-estimator:hover {background-color: #d4ebff;}#sk-container-id-24 div.sk-parallel-item::after {content: \"\";width: 100%;border-bottom: 1px solid gray;flex-grow: 1;}#sk-container-id-24 div.sk-label:hover label.sk-toggleable__label {background-color: #d4ebff;}#sk-container-id-24 div.sk-serial::before {content: \"\";position: absolute;border-left: 1px solid gray;box-sizing: border-box;top: 0;bottom: 0;left: 50%;z-index: 0;}#sk-container-id-24 div.sk-serial {display: flex;flex-direction: column;align-items: center;background-color: white;padding-right: 0.2em;padding-left: 0.2em;position: relative;}#sk-container-id-24 div.sk-item {position: relative;z-index: 1;}#sk-container-id-24 div.sk-parallel {display: flex;align-items: stretch;justify-content: center;background-color: white;position: relative;}#sk-container-id-24 div.sk-item::before, #sk-container-id-24 div.sk-parallel-item::before {content: \"\";position: absolute;border-left: 1px solid gray;box-sizing: border-box;top: 0;bottom: 0;left: 50%;z-index: -1;}#sk-container-id-24 div.sk-parallel-item {display: flex;flex-direction: column;z-index: 1;position: relative;background-color: white;}#sk-container-id-24 div.sk-parallel-item:first-child::after {align-self: flex-end;width: 50%;}#sk-container-id-24 div.sk-parallel-item:last-child::after {align-self: flex-start;width: 50%;}#sk-container-id-24 div.sk-parallel-item:only-child::after {width: 0;}#sk-container-id-24 div.sk-dashed-wrapped {border: 1px dashed gray;margin: 0 0.4em 0.5em 0.4em;box-sizing: border-box;padding-bottom: 0.4em;background-color: white;}#sk-container-id-24 div.sk-label label {font-family: monospace;font-weight: bold;display: inline-block;line-height: 1.2em;}#sk-container-id-24 div.sk-label-container {text-align: center;}#sk-container-id-24 div.sk-container {/* jupyter's `normalize.less` sets `[hidden] { display: none; }` but bootstrap.min.css set `[hidden] { display: none !important; }` so we also need the `!important` here to be able to override the default hidden behavior on the sphinx rendered scikit-learn.org. See: https://github.com/scikit-learn/scikit-learn/issues/21755 */display: inline-block !important;position: relative;}#sk-container-id-24 div.sk-text-repr-fallback {display: none;}</style><div id=\"sk-container-id-24\" class=\"sk-top-container\"><div class=\"sk-text-repr-fallback\"><pre>BaggingClassifier(base_estimator=KNeighborsClassifier(metric=&#x27;euclidean&#x27;,\n",
       "                                                      n_neighbors=15),\n",
       "                  bootstrap=100)</pre><b>In a Jupyter environment, please rerun this cell to show the HTML representation or trust the notebook. <br />On GitHub, the HTML representation is unable to render, please try loading this page with nbviewer.org.</b></div><div class=\"sk-container\" hidden><div class=\"sk-item sk-dashed-wrapped\"><div class=\"sk-label-container\"><div class=\"sk-label sk-toggleable\"><input class=\"sk-toggleable__control sk-hidden--visually\" id=\"sk-estimator-id-44\" type=\"checkbox\" ><label for=\"sk-estimator-id-44\" class=\"sk-toggleable__label sk-toggleable__label-arrow\">BaggingClassifier</label><div class=\"sk-toggleable__content\"><pre>BaggingClassifier(base_estimator=KNeighborsClassifier(metric=&#x27;euclidean&#x27;,\n",
       "                                                      n_neighbors=15),\n",
       "                  bootstrap=100)</pre></div></div></div><div class=\"sk-parallel\"><div class=\"sk-parallel-item\"><div class=\"sk-item\"><div class=\"sk-label-container\"><div class=\"sk-label sk-toggleable\"><input class=\"sk-toggleable__control sk-hidden--visually\" id=\"sk-estimator-id-45\" type=\"checkbox\" ><label for=\"sk-estimator-id-45\" class=\"sk-toggleable__label sk-toggleable__label-arrow\">base_estimator: KNeighborsClassifier</label><div class=\"sk-toggleable__content\"><pre>KNeighborsClassifier(metric=&#x27;euclidean&#x27;, n_neighbors=15)</pre></div></div></div><div class=\"sk-serial\"><div class=\"sk-item\"><div class=\"sk-estimator sk-toggleable\"><input class=\"sk-toggleable__control sk-hidden--visually\" id=\"sk-estimator-id-46\" type=\"checkbox\" ><label for=\"sk-estimator-id-46\" class=\"sk-toggleable__label sk-toggleable__label-arrow\">KNeighborsClassifier</label><div class=\"sk-toggleable__content\"><pre>KNeighborsClassifier(metric=&#x27;euclidean&#x27;, n_neighbors=15)</pre></div></div></div></div></div></div></div></div></div></div>"
      ],
      "text/plain": [
       "BaggingClassifier(base_estimator=KNeighborsClassifier(metric='euclidean',\n",
       "                                                      n_neighbors=15),\n",
       "                  bootstrap=100)"
      ]
     },
     "execution_count": 109,
     "metadata": {},
     "output_type": "execute_result"
    }
   ],
   "source": [
    "#Kreiramo Bagging model nad novim datasetom i optimalnim parametrima\n",
    "model_bagging2 = BaggingClassifier(base_estimator = knn2, bootstrap=100)\n",
    "model_bagging2.fit(X_new_train, Y_new_train)"
   ]
  },
  {
   "cell_type": "code",
   "execution_count": 110,
   "id": "e9d3afdf",
   "metadata": {},
   "outputs": [
    {
     "data": {
      "text/plain": [
       "0.6210331179022146"
      ]
     },
     "execution_count": 110,
     "metadata": {},
     "output_type": "execute_result"
    }
   ],
   "source": [
    "cross_val_score(model_bagging2, X_new_train, Y_new_train, cv=10, scoring='roc_auc').mean()"
   ]
  },
  {
   "cell_type": "code",
   "execution_count": 112,
   "id": "3e5fb058",
   "metadata": {},
   "outputs": [
    {
     "data": {
      "text/plain": [
       "array([[1788,    0],\n",
       "       [ 250,    2]], dtype=int64)"
      ]
     },
     "execution_count": 112,
     "metadata": {},
     "output_type": "execute_result"
    }
   ],
   "source": [
    "Y_pred_bagging2 = model_bagging2.predict(X_new_test)\n",
    "confusion_matrix(Y_new_test, Y_pred_bagging2)"
   ]
  },
  {
   "cell_type": "code",
   "execution_count": 113,
   "id": "3c31c33c",
   "metadata": {},
   "outputs": [
    {
     "name": "stdout",
     "output_type": "stream",
     "text": [
      "Accuracy : 0.8774509803921569\n",
      "Precision : 1.0\n",
      "Recall : 0.007936507936507936\n",
      "F1 : 0.015748031496062992\n"
     ]
    }
   ],
   "source": [
    "evaluate_metrics(Y_new_test, Y_pred_bagging2)"
   ]
  },
  {
   "cell_type": "code",
   "execution_count": null,
   "id": "186a0adb",
   "metadata": {},
   "outputs": [],
   "source": []
  },
  {
   "cell_type": "code",
   "execution_count": null,
   "id": "dd900100",
   "metadata": {},
   "outputs": [],
   "source": []
  }
 ],
 "metadata": {
  "kernelspec": {
   "display_name": "Python 3 (ipykernel)",
   "language": "python",
   "name": "python3"
  },
  "language_info": {
   "codemirror_mode": {
    "name": "ipython",
    "version": 3
   },
   "file_extension": ".py",
   "mimetype": "text/x-python",
   "name": "python",
   "nbconvert_exporter": "python",
   "pygments_lexer": "ipython3",
   "version": "3.9.12"
  }
 },
 "nbformat": 4,
 "nbformat_minor": 5
}
